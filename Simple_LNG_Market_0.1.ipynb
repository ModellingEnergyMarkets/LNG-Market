{
    "cells": [
        {
            "cell_type": "markdown",
            "metadata": {
            },
            "source": [
                "Calculating optimal (minimal) costs for an LNG importing country (Japan)"
            ]
        },
        {
            "cell_type": "code",
            "execution_count": 0,
            "metadata": {
            },
            "outputs": [
            ],
            "source": [
                "from scipy.optimize import linprog \n",
                "import numpy as np"
            ]
        },
        {
            "cell_type": "markdown",
            "metadata": {
            },
            "source": [
                "Exporting countries: Supply in cubic meters"
            ]
        },
        {
            "cell_type": "code",
            "execution_count": 1,
            "metadata": {
            },
            "outputs": [
            ],
            "source": [
                "USA_Supply = 50000000000\n",
                "Qatar_Supply = 100000000000"
            ]
        },
        {
            "cell_type": "markdown",
            "metadata": {
            },
            "source": [
                "Importing country: Demand in cubic meters"
            ]
        },
        {
            "cell_type": "code",
            "execution_count": 2,
            "metadata": {
            },
            "outputs": [
            ],
            "source": [
                "Japan_Demand = 125000000000"
            ]
        },
        {
            "cell_type": "markdown",
            "metadata": {
            },
            "source": [
                "LNG production costs in $/cubic meter"
            ]
        },
        {
            "cell_type": "code",
            "execution_count": 3,
            "metadata": {
            },
            "outputs": [
            ],
            "source": [
                "LNG_Costs_USA = 0.1\n",
                "LNG_Costs_Qatar = 0.07"
            ]
        },
        {
            "cell_type": "markdown",
            "metadata": {
            },
            "source": [
                "Distances between exporting and importing countries in km"
            ]
        },
        {
            "cell_type": "code",
            "execution_count": 4,
            "metadata": {
            },
            "outputs": [
            ],
            "source": [
                "Distance_USA_Japan = 10000\n",
                "Distance_Qatar_Japan = 8000"
            ]
        },
        {
            "cell_type": "markdown",
            "metadata": {
            },
            "source": [
                "\n",
                "Calculation of the transport costs\n"
            ]
        },
        {
            "cell_type": "code",
            "execution_count": 5,
            "metadata": {
            },
            "outputs": [
                {
                    "name": "stdout",
                    "output_type": "stream",
                    "text": [
                        "Transportation cost between USA and Japan is $1000000.000000\n",
                        "Transportation cost between Qatar and Japan is $800000.000000\n"
                    ]
                }
            ],
            "source": [
                "LNG_Carrier_Capacity = 150000000 # in meter³\n",
                "\n",
                "Charter_Rate_per_Day = 50000 # to keep it simple we'll assume that fuel costs are included\n",
                "\n",
                "LNG_Carrier_Speed = 500 # km/day\n",
                "\n",
                "Transport_Cost_USA_Japan = (Distance_USA_Japan / LNG_Carrier_Speed) * Charter_Rate_per_Day\n",
                "Transport_Cost_Qatar_Japan = (Distance_Qatar_Japan / LNG_Carrier_Speed) * Charter_Rate_per_Day\n",
                "\n",
                "print(\"Transportation cost between USA and Japan is $%f\" % Transport_Cost_USA_Japan)\n",
                "print(\"Transportation cost between Qatar and Japan is $%f\" % Transport_Cost_Qatar_Japan)"
            ]
        },
        {
            "cell_type": "markdown",
            "metadata": {
            },
            "source": [
                "\n",
                "Total Costs per Cargo = Transport Cost + Cost of Transported LNG per Vessel\n"
            ]
        },
        {
            "cell_type": "code",
            "execution_count": 6,
            "metadata": {
            },
            "outputs": [
                {
                    "name": "stdout",
                    "output_type": "stream",
                    "text": [
                        "Total costs per cargo between USA and Japan: $16000000.000000\n",
                        "Total costs per cargo between Qatar and Japan: $11300000.000000\n"
                    ]
                }
            ],
            "source": [
                "Total_Cargo_Cost_USA_Japan = Transport_Cost_USA_Japan + LNG_Carrier_Capacity * LNG_Costs_USA\n",
                "Total_Cargo_Cost_Qatar_Japan = Transport_Cost_Qatar_Japan + LNG_Carrier_Capacity * LNG_Costs_Qatar\n",
                "\n",
                "print(\"Total costs per cargo between USA and Japan: $%f\" % Total_Cargo_Cost_USA_Japan)\n",
                "print(\"Total costs per cargo between Qatar and Japan: $%f\" % Total_Cargo_Cost_Qatar_Japan)"
            ]
        },
        {
            "cell_type": "markdown",
            "metadata": {
            },
            "source": [
                "\n",
                "Solving the problem: \n",
                "min Number of LNG Carriers USA->Jap * Total Cargo Cost USA->Japan + Number of LNG Carriers Qat->Jap * Total Cargo Cost Qatar->Japan \n",
                "    Number of LNG Carriers USA->Jap * LNG Carrier Capacity <= USA Supply \n",
                "    Number of LNG Carriers Qat->Jap * LNG Carrier Capacity <= Qatar Supply \n",
                "\n",
                "    Number of LNG Carriers USA->Jap * LNG Carrier Capacity + Number of LNG Carriers Qat->Jap * LNG Carrier Capacity = Japan Demand \n",
                "\n",
                "    Number of LNG Carriers USA->Jap > 0 \n",
                "    Number of LNG Carriers Qatar->Jap > 0\n"
            ]
        },
        {
            "cell_type": "code",
            "execution_count": 7,
            "metadata": {
            },
            "outputs": [
                {
                    "name": "stdout",
                    "output_type": "stream",
                    "text": [
                        "     con: array([0.])\n",
                        "     fun: 10200000000.0\n",
                        " message: 'Optimization terminated successfully.'\n",
                        "     nit: 3\n",
                        "   slack: array([2.5e+10, 0.0e+00])\n",
                        "  status: 0\n",
                        " success: True\n",
                        "       x: array([166.66666667, 666.66666667])\n",
                        "Average price in Japan per 1000m^3: 81.600000$\n"
                    ]
                }
            ],
            "source": [
                "obj = [Total_Cargo_Cost_USA_Japan, Total_Cargo_Cost_Qatar_Japan]\n",
                "\n",
                "lhs_ineq = [[LNG_Carrier_Capacity, 0],\n",
                "            [0, LNG_Carrier_Capacity]]\n",
                "rhs_ineq = [USA_Supply,\n",
                "            Qatar_Supply]\n",
                "\n",
                "lhs_eq = [[LNG_Carrier_Capacity, LNG_Carrier_Capacity]]\n",
                "rhs_eq = [Japan_Demand]\n",
                "\n",
                "bnd = [(0, float(\"inf\")),\n",
                "       (0, float(\"inf\"))]\n",
                "\n",
                "opt = linprog(c = obj, A_ub = lhs_ineq, b_ub = rhs_ineq, A_eq = lhs_eq, b_eq = rhs_eq, bounds = bnd, method = \"revised simplex\")\n",
                "\n",
                "print(opt)\n",
                "\n",
                "Average_Price_Jap = 1000 * opt.fun / Japan_Demand # price per 1000m^3\n",
                "print(\"Average price in Japan per 1000m^3: %f$\" % Average_Price_Jap)"
            ]
        },
        {
            "cell_type": "code",
            "execution_count": null,
            "metadata": {
            },
            "outputs": [
            ],
            "source": [
                ""
            ]
        }
    ],
    "metadata": {
        "kernelspec": {
            "display_name": "Python",
            "language": "Python",
            "name": "python"
        }
    },
    "nbformat": 4,
    "nbformat_minor": 5
}
