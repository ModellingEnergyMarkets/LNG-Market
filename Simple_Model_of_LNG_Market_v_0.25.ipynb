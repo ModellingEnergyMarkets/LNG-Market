{
 "cells": [
  {
   "cell_type": "markdown",
   "metadata": {},
   "source": [
    "# Simple LNG Market\n",
    "\n",
    "The importing countries try to minimize their costs for the imported LNG. The object of this model is to minimize total LNG costs while satisfying constraints on the supplies available at each of the exporting nodes, and satisfying demand requirements at each of the importerting nodes."
   ]
  },
  {
   "cell_type": "code",
   "execution_count": 2,
   "metadata": {},
   "outputs": [],
   "source": [
    "import shutil\n",
    "import sys\n",
    "import os.path\n",
    "import pandas as pd\n",
    "import numpy as np\n",
    "import matplotlib.pyplot as plt\n",
    "plt.close('all')\n",
    "\n",
    "from IPython.display import display\n",
    "from geopy.geocoders import Nominatim\n",
    "from geopy import distance\n",
    "from pyomo.environ import *\n",
    "\n",
    "geolocator = Nominatim(user_agent=\"Your_Name\")\n",
    "pd.set_option('precision', 3)\n",
    "MMBtu = 23.161 #1m³LNG = 23.161MMBtu "
   ]
  },
  {
   "cell_type": "markdown",
   "metadata": {},
   "source": [
    "## 1 Data "
   ]
  },
  {
   "cell_type": "markdown",
   "metadata": {},
   "source": [
    "### 1.1 Importing Nodes"
   ]
  },
  {
   "cell_type": "code",
   "execution_count": 3,
   "metadata": {},
   "outputs": [
    {
     "ename": "TypeError",
     "evalue": "Error trying to display values for object of type <class 'pandas.io.formats.style.Styler'>:\n\tObject does not support the 'display()' method",
     "output_type": "error",
     "traceback": [
      "\u001b[0;31m---------------------------------------------------------------------------\u001b[0m",
      "\u001b[0;31mAttributeError\u001b[0m                            Traceback (most recent call last)",
      "\u001b[0;32m~/anaconda3/lib/python3.8/site-packages/pyomo/core/base/misc.py\u001b[0m in \u001b[0;36mdisplay\u001b[0;34m(obj, ostream)\u001b[0m\n\u001b[1;32m     26\u001b[0m     \u001b[0;32mtry\u001b[0m\u001b[0;34m:\u001b[0m\u001b[0;34m\u001b[0m\u001b[0;34m\u001b[0m\u001b[0m\n\u001b[0;32m---> 27\u001b[0;31m         \u001b[0mdisplay_fcn\u001b[0m \u001b[0;34m=\u001b[0m \u001b[0mobj\u001b[0m\u001b[0;34m.\u001b[0m\u001b[0mdisplay\u001b[0m\u001b[0;34m\u001b[0m\u001b[0;34m\u001b[0m\u001b[0m\n\u001b[0m\u001b[1;32m     28\u001b[0m     \u001b[0;32mexcept\u001b[0m \u001b[0mAttributeError\u001b[0m\u001b[0;34m:\u001b[0m\u001b[0;34m\u001b[0m\u001b[0;34m\u001b[0m\u001b[0m\n",
      "\u001b[0;31mAttributeError\u001b[0m: 'Styler' object has no attribute 'display'",
      "\nDuring handling of the above exception, another exception occurred:\n",
      "\u001b[0;31mTypeError\u001b[0m                                 Traceback (most recent call last)",
      "\u001b[0;32m<ipython-input-3-bb14a4fd9f46>\u001b[0m in \u001b[0;36m<module>\u001b[0;34m\u001b[0m\n\u001b[1;32m     37\u001b[0m         {\"selector\": \"td\", \"props\": [(\"text-align\", \"center\")]}])\n\u001b[1;32m     38\u001b[0m \u001b[0;34m\u001b[0m\u001b[0m\n\u001b[0;32m---> 39\u001b[0;31m \u001b[0mdisplay\u001b[0m\u001b[0;34m(\u001b[0m\u001b[0mpd_centered\u001b[0m\u001b[0;34m(\u001b[0m\u001b[0mImp_Countries\u001b[0m\u001b[0;34m)\u001b[0m\u001b[0;34m)\u001b[0m\u001b[0;34m\u001b[0m\u001b[0;34m\u001b[0m\u001b[0m\n\u001b[0m\u001b[1;32m     40\u001b[0m \u001b[0;31m#Imp_Countries\u001b[0m\u001b[0;34m\u001b[0m\u001b[0;34m\u001b[0m\u001b[0;34m\u001b[0m\u001b[0m\n",
      "\u001b[0;32m~/anaconda3/lib/python3.8/site-packages/pyomo/core/base/misc.py\u001b[0m in \u001b[0;36mdisplay\u001b[0;34m(obj, ostream)\u001b[0m\n\u001b[1;32m     27\u001b[0m         \u001b[0mdisplay_fcn\u001b[0m \u001b[0;34m=\u001b[0m \u001b[0mobj\u001b[0m\u001b[0;34m.\u001b[0m\u001b[0mdisplay\u001b[0m\u001b[0;34m\u001b[0m\u001b[0;34m\u001b[0m\u001b[0m\n\u001b[1;32m     28\u001b[0m     \u001b[0;32mexcept\u001b[0m \u001b[0mAttributeError\u001b[0m\u001b[0;34m:\u001b[0m\u001b[0;34m\u001b[0m\u001b[0;34m\u001b[0m\u001b[0m\n\u001b[0;32m---> 29\u001b[0;31m         raise TypeError(\n\u001b[0m\u001b[1;32m     30\u001b[0m             \u001b[0;34m\"Error trying to display values for object of type %s:\\n\"\u001b[0m\u001b[0;34m\u001b[0m\u001b[0;34m\u001b[0m\u001b[0m\n\u001b[1;32m     31\u001b[0m             \u001b[0;34m\"\\tObject does not support the 'display()' method\"\u001b[0m\u001b[0;34m\u001b[0m\u001b[0;34m\u001b[0m\u001b[0m\n",
      "\u001b[0;31mTypeError\u001b[0m: Error trying to display values for object of type <class 'pandas.io.formats.style.Styler'>:\n\tObject does not support the 'display()' method"
     ]
    }
   ],
   "source": [
    "# Data for importing and exporting countries from \"BP Stats Review (2020)\"\n",
    "\n",
    "# \"Import (MMBtu)\" column consists of imports in m³ multiplied with conversion factor\n",
    "\n",
    "Imp_Countries = pd.DataFrame({\n",
    "    \n",
    "    \"Country\" : [\"Japan\", \"China\", \"South Korea\", \"India\", \"France\", \"Spain\",\n",
    "                 \"UK\", \"Italy\", \"Turkey\", \"Belgium\"],\n",
    "    \n",
    "     \"Import (MMBtu)\" : [105.5*10**9 * MMBtu, 84.8*10**9 * MMBtu, 55.6*10**9 * MMBtu, 32.9*10**9 * MMBtu,\n",
    "                       22.9*10**9 * MMBtu, 21.9*10**9 * MMBtu, 18*10**9 * MMBtu, 13.5*10**9 * MMBtu,\n",
    "                       12.9*10**9 * MMBtu, 7.2*10**9 * MMBtu],\n",
    "    \n",
    "    \"Regasification Terminal\" : [\"Sodegaura\", \"Yancheng\", \"Incheon\", \"Dahej\", \"Dunkirk\",\n",
    "                     \"Barcelona\", \"Isle of Grain\", \"Rovigo\", \"Marmara\", \"Zeebrugge\"]\n",
    "})\n",
    "\n",
    "#Imp_Countries[\"Import (MMBtu)\"] = (Imp_Countries[\"Import (MMBtu)\"].astype(float)/1000000000).astype(str)\n",
    "\n",
    "\n",
    "# getting the coordinates of largest regas terminals, not neccesarry anymore, since there is no suitable package\n",
    "# for calculating sea distances :(\n",
    "\n",
    "Imp_Countries[\"Location\"] = Imp_Countries[\"Regasification Terminal\"].apply(geolocator.geocode)\n",
    "Imp_Countries[\"Point\"]= Imp_Countries[\"Location\"].apply(lambda loc: tuple(loc.point) if loc else None)\n",
    "Imp_Countries[[\"Latitude\", \"Longitude\", \"Altitude\"]] = pd.DataFrame(Imp_Countries[\"Point\"].to_list(), index=Imp_Countries.index)\n",
    "\n",
    "del Imp_Countries[\"Altitude\"]\n",
    "del Imp_Countries[\"Location\"]\n",
    "del Imp_Countries[\"Point\"]\n",
    "\n",
    "\n",
    "#center the columns, display() method doesn't work anymore, so not necessary for now\n",
    "def pd_centered(df):\n",
    "    return df.style.set_table_styles([\n",
    "        {\"selector\": \"th\", \"props\": [(\"text-align\", \"center\")]},\n",
    "        {\"selector\": \"td\", \"props\": [(\"text-align\", \"center\")]}])\n",
    "\n",
    "display(pd_centered(Imp_Countries))\n",
    "#Imp_Countries"
   ]
  },
  {
   "cell_type": "markdown",
   "metadata": {},
   "source": [
    "### 1.2 Exporting Nodes"
   ]
  },
  {
   "cell_type": "code",
   "execution_count": null,
   "metadata": {},
   "outputs": [],
   "source": [
    "# define DF with data for exporting countries (BP 2020)\n",
    "\n",
    "Exp_Countries = pd.DataFrame({\n",
    "    \n",
    "    \"Country\" : [\"Qatar\", \"Australia\", \"USA\", \"Russia\", \"Malaysia\", \"Nigeria\",\n",
    "                 \"Trinidad & Tobago\", \"Algeria\", \"Indonesia\",\"Oman\"],\n",
    "    \n",
    "    \"Export (MMBtu)\" : [107.1*10**9 * MMBtu, 104.7*10**9 * MMBtu, 47.5*10**9 * MMBtu, 39.4*10**9 * MMBtu,\n",
    "                        35.1*10**9 * MMBtu, 28.8*10**9 * MMBtu, 17.0*10**9 * MMBtu, 16.9*10**9 * MMBtu,\n",
    "                        16.5*10**9 * MMBtu, 14.1*10**9 * MMBtu],\n",
    "    \n",
    "    \"Break Eeven Price ($/MMBtu)\" : [2.5, 6.5, 6.0, 4.5, 6.0, 4.08, 5.1, 2.5, 6.0, 3.5],\n",
    "    \n",
    "    #\"Feedstock ($/MMBtu)\" : [0.5, 3.0, 3.0, 0.5, 3.0, 2.2, 3.0, 0.5, 2.0, 1.5],\n",
    "\n",
    "    #\"Liquefaction ($/MMBtu)\" : [2.0, 3.5, 3.0, 4.0, 3.0, 1.88, 2.1, 2.0, 4.0, 2.0],\n",
    "    \n",
    "    \"Liquefaction Terminal\" : [\"Ras Laffan\", \"Gladstone\", \"Sabine Pass\", \"Sabetta\",\n",
    "                               \"Bintulu\", \"Bonny Island\", \"Point Fortin\",\n",
    "                               \" Bethioua\", \"Bontang\", \"Qalhat\"],\n",
    "})\n",
    "\n",
    "#Exp_Countries[\"Export (Bcm)\"] = (Exp_Countries[\"Export (Bcm)\"].astype(float)/1000000000).astype(str)\n",
    "\n",
    "\n",
    "# Getting the coordinates of liquefaction terminals, not neccesarry anymore, since there is no suitable package\n",
    "# for calculating sea distances :(\n",
    "\n",
    "Exp_Countries[\"Location\"] = Exp_Countries[\"Liquefaction Terminal\"].apply(geolocator.geocode)\n",
    "Exp_Countries[\"Point\"] = Exp_Countries[\"Location\"].apply(lambda loc: tuple(loc.point) if loc else None)\n",
    "Exp_Countries[[\"Latitude\", \"Longitude\", \"Altitude\"]] = pd.DataFrame(Exp_Countries[\"Point\"].to_list(), index=Exp_Countries.index)\n",
    "\n",
    "# remove unnecessary columns\n",
    "del Exp_Countries[\"Altitude\"]\n",
    "del Exp_Countries[\"Location\"]\n",
    "del Exp_Countries[\"Point\"]\n",
    "\n",
    "display(pd_centered(Exp_Countries))\n",
    "#Exp_Countries"
   ]
  },
  {
   "cell_type": "markdown",
   "metadata": {},
   "source": [
    "### 1.3 Sea distances among the importing and exporting nodes"
   ]
  },
  {
   "cell_type": "code",
   "execution_count": 6,
   "metadata": {},
   "outputs": [
    {
     "ename": "TypeError",
     "evalue": "Error trying to display values for object of type <class 'pandas.io.formats.style.Styler'>:\n\tObject does not support the 'display()' method",
     "output_type": "error",
     "traceback": [
      "\u001b[0;31m---------------------------------------------------------------------------\u001b[0m",
      "\u001b[0;31mAttributeError\u001b[0m                            Traceback (most recent call last)",
      "\u001b[0;32m~/anaconda3/lib/python3.8/site-packages/pyomo/core/base/misc.py\u001b[0m in \u001b[0;36mdisplay\u001b[0;34m(obj, ostream)\u001b[0m\n\u001b[1;32m     26\u001b[0m     \u001b[0;32mtry\u001b[0m\u001b[0;34m:\u001b[0m\u001b[0;34m\u001b[0m\u001b[0;34m\u001b[0m\u001b[0m\n\u001b[0;32m---> 27\u001b[0;31m         \u001b[0mdisplay_fcn\u001b[0m \u001b[0;34m=\u001b[0m \u001b[0mobj\u001b[0m\u001b[0;34m.\u001b[0m\u001b[0mdisplay\u001b[0m\u001b[0;34m\u001b[0m\u001b[0;34m\u001b[0m\u001b[0m\n\u001b[0m\u001b[1;32m     28\u001b[0m     \u001b[0;32mexcept\u001b[0m \u001b[0mAttributeError\u001b[0m\u001b[0;34m:\u001b[0m\u001b[0;34m\u001b[0m\u001b[0;34m\u001b[0m\u001b[0m\n",
      "\u001b[0;31mAttributeError\u001b[0m: 'Styler' object has no attribute 'display'",
      "\nDuring handling of the above exception, another exception occurred:\n",
      "\u001b[0;31mTypeError\u001b[0m                                 Traceback (most recent call last)",
      "\u001b[0;32m<ipython-input-6-27031073f42b>\u001b[0m in \u001b[0;36m<module>\u001b[0;34m\u001b[0m\n\u001b[1;32m     34\u001b[0m                              \"Spain\", \"UK\", \"Italy\", \"Turkey\", \"Belgium\"))\n\u001b[1;32m     35\u001b[0m \u001b[0;34m\u001b[0m\u001b[0m\n\u001b[0;32m---> 36\u001b[0;31m \u001b[0mdisplay\u001b[0m\u001b[0;34m(\u001b[0m\u001b[0mpd_centered\u001b[0m\u001b[0;34m(\u001b[0m\u001b[0mDistances\u001b[0m\u001b[0;34m)\u001b[0m\u001b[0;34m)\u001b[0m\u001b[0;34m\u001b[0m\u001b[0;34m\u001b[0m\u001b[0m\n\u001b[0m\u001b[1;32m     37\u001b[0m \u001b[0;31m#Distances\u001b[0m\u001b[0;34m\u001b[0m\u001b[0;34m\u001b[0m\u001b[0;34m\u001b[0m\u001b[0m\n",
      "\u001b[0;32m~/anaconda3/lib/python3.8/site-packages/pyomo/core/base/misc.py\u001b[0m in \u001b[0;36mdisplay\u001b[0;34m(obj, ostream)\u001b[0m\n\u001b[1;32m     27\u001b[0m         \u001b[0mdisplay_fcn\u001b[0m \u001b[0;34m=\u001b[0m \u001b[0mobj\u001b[0m\u001b[0;34m.\u001b[0m\u001b[0mdisplay\u001b[0m\u001b[0;34m\u001b[0m\u001b[0;34m\u001b[0m\u001b[0m\n\u001b[1;32m     28\u001b[0m     \u001b[0;32mexcept\u001b[0m \u001b[0mAttributeError\u001b[0m\u001b[0;34m:\u001b[0m\u001b[0;34m\u001b[0m\u001b[0;34m\u001b[0m\u001b[0m\n\u001b[0;32m---> 29\u001b[0;31m         raise TypeError(\n\u001b[0m\u001b[1;32m     30\u001b[0m             \u001b[0;34m\"Error trying to display values for object of type %s:\\n\"\u001b[0m\u001b[0;34m\u001b[0m\u001b[0;34m\u001b[0m\u001b[0m\n\u001b[1;32m     31\u001b[0m             \u001b[0;34m\"\\tObject does not support the 'display()' method\"\u001b[0m\u001b[0;34m\u001b[0m\u001b[0;34m\u001b[0m\u001b[0m\n",
      "\u001b[0;31mTypeError\u001b[0m: Error trying to display values for object of type <class 'pandas.io.formats.style.Styler'>:\n\tObject does not support the 'display()' method"
     ]
    }
   ],
   "source": [
    "# Define DF with distances among largest liquefaction and regas terminals in nautical miles\n",
    "# In case of lack of route to the specific terminal, next largest port was taken\n",
    "# sea-distances.org, searoutes.com\n",
    "\n",
    "# if route over canal: distance rounded on 0 for suez and on 5 for panama, needed for later calculations\n",
    "\n",
    "Distances = pd.DataFrame([(6512, 5846, 6161, 1301, 6240, 4650, 6260, 4380, 3460, 6270),\n",
    "                          \n",
    "                          (3861, 4134, 4313, 5918, 11650, 10060, 11670, 9790, 8870, 11680),\n",
    "                          \n",
    "                          (9205, 10075, 10005, 9645, 4881, 5206, 4897, 6354, 6341, 4908),\n",
    "                          \n",
    "                          (4929, 5596, 5671, 10160, 2494, 4252, 2511, 5546, 5481, 2477),\n",
    "                          \n",
    "                          (2276, 1656, 1998, 3231, 8980, 7390, 9000, 7120, 6200, 9010),\n",
    "                          \n",
    "                          (10752, 10088, 10406, 6988, 4287, 3824, 4309, 4973, 4961, 4321),\n",
    "                          \n",
    "                          (8885, 9755, 9665, 8370, 3952, 3926, 3974, 5074, 5062, 3984),\n",
    "                          \n",
    "                          (9590, 8930, 9240, 4720, 1519, 343, 1541, 1432, 1417, 1552),\n",
    "                          \n",
    "                          (2651, 2181, 2487, 3517, 9260, 7670, 9280, 7390, 6470, 9290),\n",
    "                          \n",
    "                          (6046, 5379, 5694, 853, 5760, 4180, 5790, 3900, 2980, 5800)\n",
    "\n",
    "                         ],\n",
    "\n",
    "                  index=[\"Qatar\", \"Australia\", \"USA\", \"Russia\", \"Malaysia\", \n",
    "                         \"Nigeria\", \"Trinidad & Tobago\", \"Algeria\", \"Indonesia\"\n",
    "                         ,\"Oman\"],\n",
    "\n",
    "                  columns = (\"Japan\", \"China\", \"South Korea\", \"India\", \"France\",\n",
    "                             \"Spain\", \"UK\", \"Italy\", \"Turkey\", \"Belgium\"))\n",
    "\n",
    "display(pd_centered(Distances))\n",
    "#Distances"
   ]
  },
  {
   "cell_type": "markdown",
   "metadata": {},
   "source": [
    "### 1.4 LNG Carrier\n",
    "\n",
    "To keep the model simple it is assumed that there is only one type of the LNG carrier with the following characteristics:"
   ]
  },
  {
   "cell_type": "code",
   "execution_count": 7,
   "metadata": {
    "scrolled": true
   },
   "outputs": [
    {
     "ename": "TypeError",
     "evalue": "Error trying to display values for object of type <class 'pandas.io.formats.style.Styler'>:\n\tObject does not support the 'display()' method",
     "output_type": "error",
     "traceback": [
      "\u001b[0;31m---------------------------------------------------------------------------\u001b[0m",
      "\u001b[0;31mAttributeError\u001b[0m                            Traceback (most recent call last)",
      "\u001b[0;32m~/anaconda3/lib/python3.8/site-packages/pyomo/core/base/misc.py\u001b[0m in \u001b[0;36mdisplay\u001b[0;34m(obj, ostream)\u001b[0m\n\u001b[1;32m     26\u001b[0m     \u001b[0;32mtry\u001b[0m\u001b[0;34m:\u001b[0m\u001b[0;34m\u001b[0m\u001b[0;34m\u001b[0m\u001b[0m\n\u001b[0;32m---> 27\u001b[0;31m         \u001b[0mdisplay_fcn\u001b[0m \u001b[0;34m=\u001b[0m \u001b[0mobj\u001b[0m\u001b[0;34m.\u001b[0m\u001b[0mdisplay\u001b[0m\u001b[0;34m\u001b[0m\u001b[0;34m\u001b[0m\u001b[0m\n\u001b[0m\u001b[1;32m     28\u001b[0m     \u001b[0;32mexcept\u001b[0m \u001b[0mAttributeError\u001b[0m\u001b[0;34m:\u001b[0m\u001b[0;34m\u001b[0m\u001b[0;34m\u001b[0m\u001b[0m\n",
      "\u001b[0;31mAttributeError\u001b[0m: 'Styler' object has no attribute 'display'",
      "\nDuring handling of the above exception, another exception occurred:\n",
      "\u001b[0;31mTypeError\u001b[0m                                 Traceback (most recent call last)",
      "\u001b[0;32m<ipython-input-7-d926dfc3f1e5>\u001b[0m in \u001b[0;36m<module>\u001b[0;34m\u001b[0m\n\u001b[1;32m     10\u001b[0m \u001b[0;34m\u001b[0m\u001b[0m\n\u001b[1;32m     11\u001b[0m \u001b[0;31m#print(LNG_Carrier_DF.loc[0, \"Capacity (m³)\"])\u001b[0m\u001b[0;34m\u001b[0m\u001b[0;34m\u001b[0m\u001b[0;34m\u001b[0m\u001b[0m\n\u001b[0;32m---> 12\u001b[0;31m \u001b[0mdisplay\u001b[0m\u001b[0;34m(\u001b[0m\u001b[0mpd_centered\u001b[0m\u001b[0;34m(\u001b[0m\u001b[0mLNG_Carrier\u001b[0m\u001b[0;34m)\u001b[0m\u001b[0;34m)\u001b[0m\u001b[0;34m\u001b[0m\u001b[0;34m\u001b[0m\u001b[0m\n\u001b[0m\u001b[1;32m     13\u001b[0m \u001b[0;31m#LNG_Carrier\u001b[0m\u001b[0;34m\u001b[0m\u001b[0;34m\u001b[0m\u001b[0;34m\u001b[0m\u001b[0m\n",
      "\u001b[0;32m~/anaconda3/lib/python3.8/site-packages/pyomo/core/base/misc.py\u001b[0m in \u001b[0;36mdisplay\u001b[0;34m(obj, ostream)\u001b[0m\n\u001b[1;32m     27\u001b[0m         \u001b[0mdisplay_fcn\u001b[0m \u001b[0;34m=\u001b[0m \u001b[0mobj\u001b[0m\u001b[0;34m.\u001b[0m\u001b[0mdisplay\u001b[0m\u001b[0;34m\u001b[0m\u001b[0;34m\u001b[0m\u001b[0m\n\u001b[1;32m     28\u001b[0m     \u001b[0;32mexcept\u001b[0m \u001b[0mAttributeError\u001b[0m\u001b[0;34m:\u001b[0m\u001b[0;34m\u001b[0m\u001b[0;34m\u001b[0m\u001b[0m\n\u001b[0;32m---> 29\u001b[0;31m         raise TypeError(\n\u001b[0m\u001b[1;32m     30\u001b[0m             \u001b[0;34m\"Error trying to display values for object of type %s:\\n\"\u001b[0m\u001b[0;34m\u001b[0m\u001b[0;34m\u001b[0m\u001b[0m\n\u001b[1;32m     31\u001b[0m             \u001b[0;34m\"\\tObject does not support the 'display()' method\"\u001b[0m\u001b[0;34m\u001b[0m\u001b[0;34m\u001b[0m\u001b[0m\n",
      "\u001b[0;31mTypeError\u001b[0m: Error trying to display values for object of type <class 'pandas.io.formats.style.Styler'>:\n\tObject does not support the 'display()' method"
     ]
    }
   ],
   "source": [
    "# define DF with lng carrier properties\n",
    "\n",
    "LNG_Carrier = pd.DataFrame({\"Capacity (m³)\" : [160000], # average capacity in 2019 160000 (!!! https://www.rivieramm.com/opinion/opinion/lng-shipping-by-numbers-36027)\n",
    "                            \"Spot Charter Rate ($/day)\" : [70000], # average spot charter rate in 2019\n",
    "                            \"Speed (knots/h)\" : [17],\n",
    "                            \"Bunker (mt/d)\" : [110], # !!! Does boil off reduce it and what's the ratio then??? \n",
    "                            \"Bunkers Price ($/mt)\" : [670], \n",
    "                            \"Boil off\" : [1/1000], # the daily guaranteed maximum boil-off or DGMB (0,1%)\n",
    "                            \"Heel\" : [4/100]}) # 4% of the cargo is retained as the heel (LNG storage tanks need to be kept cool)\n",
    "\n",
    "#print(LNG_Carrier_DF.loc[0, \"Capacity (m³)\"])\n",
    "display(pd_centered(LNG_Carrier))\n",
    "#LNG_Carrier"
   ]
  },
  {
   "cell_type": "markdown",
   "metadata": {},
   "source": [
    "### 1.5 Additional Costs\n",
    "\n",
    "- Port costs for 3 days: outbound port, destination port and one day in case it has to wait for loading/unloading\n",
    "- Canal Fees (Suez or Panama Canal)\n",
    "- Agents and broker fees: 2% of charter cost plus\n",
    "- Insurance: 2,600 $/day"
   ]
  },
  {
   "cell_type": "code",
   "execution_count": 8,
   "metadata": {},
   "outputs": [
    {
     "ename": "TypeError",
     "evalue": "Error trying to display values for object of type <class 'pandas.io.formats.style.Styler'>:\n\tObject does not support the 'display()' method",
     "output_type": "error",
     "traceback": [
      "\u001b[0;31m---------------------------------------------------------------------------\u001b[0m",
      "\u001b[0;31mAttributeError\u001b[0m                            Traceback (most recent call last)",
      "\u001b[0;32m~/anaconda3/lib/python3.8/site-packages/pyomo/core/base/misc.py\u001b[0m in \u001b[0;36mdisplay\u001b[0;34m(obj, ostream)\u001b[0m\n\u001b[1;32m     26\u001b[0m     \u001b[0;32mtry\u001b[0m\u001b[0;34m:\u001b[0m\u001b[0;34m\u001b[0m\u001b[0;34m\u001b[0m\u001b[0m\n\u001b[0;32m---> 27\u001b[0;31m         \u001b[0mdisplay_fcn\u001b[0m \u001b[0;34m=\u001b[0m \u001b[0mobj\u001b[0m\u001b[0;34m.\u001b[0m\u001b[0mdisplay\u001b[0m\u001b[0;34m\u001b[0m\u001b[0;34m\u001b[0m\u001b[0m\n\u001b[0m\u001b[1;32m     28\u001b[0m     \u001b[0;32mexcept\u001b[0m \u001b[0mAttributeError\u001b[0m\u001b[0;34m:\u001b[0m\u001b[0;34m\u001b[0m\u001b[0;34m\u001b[0m\u001b[0m\n",
      "\u001b[0;31mAttributeError\u001b[0m: 'Styler' object has no attribute 'display'",
      "\nDuring handling of the above exception, another exception occurred:\n",
      "\u001b[0;31mTypeError\u001b[0m                                 Traceback (most recent call last)",
      "\u001b[0;32m<ipython-input-8-743d9ce04e15>\u001b[0m in \u001b[0;36m<module>\u001b[0;34m\u001b[0m\n\u001b[1;32m      8\u001b[0m     \"Fees (Percentage of Charter Costs)\" : [2/100]})\n\u001b[1;32m      9\u001b[0m \u001b[0;34m\u001b[0m\u001b[0m\n\u001b[0;32m---> 10\u001b[0;31m \u001b[0mdisplay\u001b[0m\u001b[0;34m(\u001b[0m\u001b[0mpd_centered\u001b[0m\u001b[0;34m(\u001b[0m\u001b[0mAdditional_Costs\u001b[0m\u001b[0;34m)\u001b[0m\u001b[0;34m)\u001b[0m\u001b[0;34m\u001b[0m\u001b[0;34m\u001b[0m\u001b[0m\n\u001b[0m\u001b[1;32m     11\u001b[0m \u001b[0;31m#Additional_Costs\u001b[0m\u001b[0;34m\u001b[0m\u001b[0;34m\u001b[0m\u001b[0;34m\u001b[0m\u001b[0m\n",
      "\u001b[0;32m~/anaconda3/lib/python3.8/site-packages/pyomo/core/base/misc.py\u001b[0m in \u001b[0;36mdisplay\u001b[0;34m(obj, ostream)\u001b[0m\n\u001b[1;32m     27\u001b[0m         \u001b[0mdisplay_fcn\u001b[0m \u001b[0;34m=\u001b[0m \u001b[0mobj\u001b[0m\u001b[0;34m.\u001b[0m\u001b[0mdisplay\u001b[0m\u001b[0;34m\u001b[0m\u001b[0;34m\u001b[0m\u001b[0m\n\u001b[1;32m     28\u001b[0m     \u001b[0;32mexcept\u001b[0m \u001b[0mAttributeError\u001b[0m\u001b[0;34m:\u001b[0m\u001b[0;34m\u001b[0m\u001b[0;34m\u001b[0m\u001b[0m\n\u001b[0;32m---> 29\u001b[0;31m         raise TypeError(\n\u001b[0m\u001b[1;32m     30\u001b[0m             \u001b[0;34m\"Error trying to display values for object of type %s:\\n\"\u001b[0m\u001b[0;34m\u001b[0m\u001b[0;34m\u001b[0m\u001b[0m\n\u001b[1;32m     31\u001b[0m             \u001b[0;34m\"\\tObject does not support the 'display()' method\"\u001b[0m\u001b[0;34m\u001b[0m\u001b[0;34m\u001b[0m\u001b[0m\n",
      "\u001b[0;31mTypeError\u001b[0m: Error trying to display values for object of type <class 'pandas.io.formats.style.Styler'>:\n\tObject does not support the 'display()' method"
     ]
    }
   ],
   "source": [
    "# define DF containing additional costs\n",
    "\n",
    "Additional_Costs = pd.DataFrame({\n",
    "    \"Port Costs ($ for 3 days)\" : [300000], \n",
    "    \"Suez Canal Costs ($/Cargo)\" : [1000000],  # 0.24 $/mmBtU\n",
    "    \"Panama Canal Costs ($/Cargo)\" : [900000], # 0.21 $/mmBtu,                     \n",
    "    \"Insurance ($/day)\" : [2600],\n",
    "    \"Fees (Percentage of Charter Costs)\" : [2/100]})\n",
    "\n",
    "display(pd_centered(Additional_Costs))\n",
    "#Additional_Costs"
   ]
  },
  {
   "cell_type": "markdown",
   "metadata": {},
   "source": [
    "## 2 Calculations"
   ]
  },
  {
   "cell_type": "markdown",
   "metadata": {},
   "source": [
    "### 2.1 (Return) Voyage Times"
   ]
  },
  {
   "cell_type": "code",
   "execution_count": 9,
   "metadata": {},
   "outputs": [
    {
     "ename": "TypeError",
     "evalue": "Error trying to display values for object of type <class 'pandas.io.formats.style.Styler'>:\n\tObject does not support the 'display()' method",
     "output_type": "error",
     "traceback": [
      "\u001b[0;31m---------------------------------------------------------------------------\u001b[0m",
      "\u001b[0;31mAttributeError\u001b[0m                            Traceback (most recent call last)",
      "\u001b[0;32m~/anaconda3/lib/python3.8/site-packages/pyomo/core/base/misc.py\u001b[0m in \u001b[0;36mdisplay\u001b[0;34m(obj, ostream)\u001b[0m\n\u001b[1;32m     26\u001b[0m     \u001b[0;32mtry\u001b[0m\u001b[0;34m:\u001b[0m\u001b[0;34m\u001b[0m\u001b[0;34m\u001b[0m\u001b[0m\n\u001b[0;32m---> 27\u001b[0;31m         \u001b[0mdisplay_fcn\u001b[0m \u001b[0;34m=\u001b[0m \u001b[0mobj\u001b[0m\u001b[0;34m.\u001b[0m\u001b[0mdisplay\u001b[0m\u001b[0;34m\u001b[0m\u001b[0;34m\u001b[0m\u001b[0m\n\u001b[0m\u001b[1;32m     28\u001b[0m     \u001b[0;32mexcept\u001b[0m \u001b[0mAttributeError\u001b[0m\u001b[0;34m:\u001b[0m\u001b[0;34m\u001b[0m\u001b[0;34m\u001b[0m\u001b[0m\n",
      "\u001b[0;31mAttributeError\u001b[0m: 'Styler' object has no attribute 'display'",
      "\nDuring handling of the above exception, another exception occurred:\n",
      "\u001b[0;31mTypeError\u001b[0m                                 Traceback (most recent call last)",
      "\u001b[0;32m<ipython-input-9-d51e9d520820>\u001b[0m in \u001b[0;36m<module>\u001b[0;34m\u001b[0m\n\u001b[1;32m      1\u001b[0m \u001b[0mTime\u001b[0m \u001b[0;34m=\u001b[0m \u001b[0mDistances\u001b[0m \u001b[0;34m/\u001b[0m \u001b[0;34m(\u001b[0m\u001b[0mLNG_Carrier\u001b[0m\u001b[0;34m.\u001b[0m\u001b[0mloc\u001b[0m\u001b[0;34m[\u001b[0m\u001b[0;36m0\u001b[0m\u001b[0;34m,\u001b[0m \u001b[0;34m\"Speed (knots/h)\"\u001b[0m\u001b[0;34m]\u001b[0m \u001b[0;34m*\u001b[0m \u001b[0;36m12\u001b[0m\u001b[0;34m)\u001b[0m \u001b[0;31m# in days\u001b[0m\u001b[0;34m\u001b[0m\u001b[0;34m\u001b[0m\u001b[0m\n\u001b[1;32m      2\u001b[0m \u001b[0;34m\u001b[0m\u001b[0m\n\u001b[0;32m----> 3\u001b[0;31m \u001b[0mdisplay\u001b[0m\u001b[0;34m(\u001b[0m\u001b[0mpd_centered\u001b[0m\u001b[0;34m(\u001b[0m\u001b[0mTime\u001b[0m\u001b[0;34m)\u001b[0m\u001b[0;34m)\u001b[0m\u001b[0;34m\u001b[0m\u001b[0;34m\u001b[0m\u001b[0m\n\u001b[0m\u001b[1;32m      4\u001b[0m \u001b[0;31m# note to myself: it would be better to define a function which would compute the time!!!\u001b[0m\u001b[0;34m\u001b[0m\u001b[0;34m\u001b[0m\u001b[0;34m\u001b[0m\u001b[0m\n",
      "\u001b[0;32m~/anaconda3/lib/python3.8/site-packages/pyomo/core/base/misc.py\u001b[0m in \u001b[0;36mdisplay\u001b[0;34m(obj, ostream)\u001b[0m\n\u001b[1;32m     27\u001b[0m         \u001b[0mdisplay_fcn\u001b[0m \u001b[0;34m=\u001b[0m \u001b[0mobj\u001b[0m\u001b[0;34m.\u001b[0m\u001b[0mdisplay\u001b[0m\u001b[0;34m\u001b[0m\u001b[0;34m\u001b[0m\u001b[0m\n\u001b[1;32m     28\u001b[0m     \u001b[0;32mexcept\u001b[0m \u001b[0mAttributeError\u001b[0m\u001b[0;34m:\u001b[0m\u001b[0;34m\u001b[0m\u001b[0;34m\u001b[0m\u001b[0m\n\u001b[0;32m---> 29\u001b[0;31m         raise TypeError(\n\u001b[0m\u001b[1;32m     30\u001b[0m             \u001b[0;34m\"Error trying to display values for object of type %s:\\n\"\u001b[0m\u001b[0;34m\u001b[0m\u001b[0;34m\u001b[0m\u001b[0m\n\u001b[1;32m     31\u001b[0m             \u001b[0;34m\"\\tObject does not support the 'display()' method\"\u001b[0m\u001b[0;34m\u001b[0m\u001b[0;34m\u001b[0m\u001b[0m\n",
      "\u001b[0;31mTypeError\u001b[0m: Error trying to display values for object of type <class 'pandas.io.formats.style.Styler'>:\n\tObject does not support the 'display()' method"
     ]
    }
   ],
   "source": [
    "Time = Distances / (LNG_Carrier.loc[0, \"Speed (knots/h)\"] * 12) # in days\n",
    "\n",
    "display(pd_centered(Time))\n",
    "# note to myself: it would be better to define a function which would compute the time!!!"
   ]
  },
  {
   "cell_type": "markdown",
   "metadata": {},
   "source": [
    "### 2.2 Charter Costs"
   ]
  },
  {
   "cell_type": "code",
   "execution_count": 10,
   "metadata": {},
   "outputs": [
    {
     "ename": "TypeError",
     "evalue": "Error trying to display values for object of type <class 'pandas.io.formats.style.Styler'>:\n\tObject does not support the 'display()' method",
     "output_type": "error",
     "traceback": [
      "\u001b[0;31m---------------------------------------------------------------------------\u001b[0m",
      "\u001b[0;31mAttributeError\u001b[0m                            Traceback (most recent call last)",
      "\u001b[0;32m~/anaconda3/lib/python3.8/site-packages/pyomo/core/base/misc.py\u001b[0m in \u001b[0;36mdisplay\u001b[0;34m(obj, ostream)\u001b[0m\n\u001b[1;32m     26\u001b[0m     \u001b[0;32mtry\u001b[0m\u001b[0;34m:\u001b[0m\u001b[0;34m\u001b[0m\u001b[0;34m\u001b[0m\u001b[0m\n\u001b[0;32m---> 27\u001b[0;31m         \u001b[0mdisplay_fcn\u001b[0m \u001b[0;34m=\u001b[0m \u001b[0mobj\u001b[0m\u001b[0;34m.\u001b[0m\u001b[0mdisplay\u001b[0m\u001b[0;34m\u001b[0m\u001b[0;34m\u001b[0m\u001b[0m\n\u001b[0m\u001b[1;32m     28\u001b[0m     \u001b[0;32mexcept\u001b[0m \u001b[0mAttributeError\u001b[0m\u001b[0;34m:\u001b[0m\u001b[0;34m\u001b[0m\u001b[0;34m\u001b[0m\u001b[0m\n",
      "\u001b[0;31mAttributeError\u001b[0m: 'Styler' object has no attribute 'display'",
      "\nDuring handling of the above exception, another exception occurred:\n",
      "\u001b[0;31mTypeError\u001b[0m                                 Traceback (most recent call last)",
      "\u001b[0;32m<ipython-input-10-b8e61327eb41>\u001b[0m in \u001b[0;36m<module>\u001b[0;34m\u001b[0m\n\u001b[1;32m      1\u001b[0m \u001b[0mCharter_Costs\u001b[0m \u001b[0;34m=\u001b[0m \u001b[0;34m(\u001b[0m\u001b[0mTime\u001b[0m \u001b[0;34m+\u001b[0m \u001b[0;36m2\u001b[0m\u001b[0;34m)\u001b[0m \u001b[0;34m*\u001b[0m \u001b[0mLNG_Carrier\u001b[0m\u001b[0;34m.\u001b[0m\u001b[0mloc\u001b[0m\u001b[0;34m[\u001b[0m\u001b[0;36m0\u001b[0m\u001b[0;34m,\u001b[0m \u001b[0;34m\"Spot Charter Rate ($/day)\"\u001b[0m\u001b[0;34m]\u001b[0m \u001b[0;31m# in $\u001b[0m\u001b[0;34m\u001b[0m\u001b[0;34m\u001b[0m\u001b[0m\n\u001b[0;32m----> 2\u001b[0;31m \u001b[0mdisplay\u001b[0m\u001b[0;34m(\u001b[0m\u001b[0mpd_centered\u001b[0m\u001b[0;34m(\u001b[0m\u001b[0mCharter_Costs\u001b[0m\u001b[0;34m)\u001b[0m\u001b[0;34m)\u001b[0m\u001b[0;34m\u001b[0m\u001b[0;34m\u001b[0m\u001b[0m\n\u001b[0m",
      "\u001b[0;32m~/anaconda3/lib/python3.8/site-packages/pyomo/core/base/misc.py\u001b[0m in \u001b[0;36mdisplay\u001b[0;34m(obj, ostream)\u001b[0m\n\u001b[1;32m     27\u001b[0m         \u001b[0mdisplay_fcn\u001b[0m \u001b[0;34m=\u001b[0m \u001b[0mobj\u001b[0m\u001b[0;34m.\u001b[0m\u001b[0mdisplay\u001b[0m\u001b[0;34m\u001b[0m\u001b[0;34m\u001b[0m\u001b[0m\n\u001b[1;32m     28\u001b[0m     \u001b[0;32mexcept\u001b[0m \u001b[0mAttributeError\u001b[0m\u001b[0;34m:\u001b[0m\u001b[0;34m\u001b[0m\u001b[0;34m\u001b[0m\u001b[0m\n\u001b[0;32m---> 29\u001b[0;31m         raise TypeError(\n\u001b[0m\u001b[1;32m     30\u001b[0m             \u001b[0;34m\"Error trying to display values for object of type %s:\\n\"\u001b[0m\u001b[0;34m\u001b[0m\u001b[0;34m\u001b[0m\u001b[0m\n\u001b[1;32m     31\u001b[0m             \u001b[0;34m\"\\tObject does not support the 'display()' method\"\u001b[0m\u001b[0;34m\u001b[0m\u001b[0;34m\u001b[0m\u001b[0m\n",
      "\u001b[0;31mTypeError\u001b[0m: Error trying to display values for object of type <class 'pandas.io.formats.style.Styler'>:\n\tObject does not support the 'display()' method"
     ]
    }
   ],
   "source": [
    "Charter_Costs = (Time + 2) * LNG_Carrier.loc[0, \"Spot Charter Rate ($/day)\"] # in $\n",
    "display(pd_centered(Charter_Costs))"
   ]
  },
  {
   "cell_type": "markdown",
   "metadata": {},
   "source": [
    "### 2.3 Fuel Costs"
   ]
  },
  {
   "cell_type": "code",
   "execution_count": 11,
   "metadata": {},
   "outputs": [
    {
     "ename": "TypeError",
     "evalue": "Error trying to display values for object of type <class 'pandas.io.formats.style.Styler'>:\n\tObject does not support the 'display()' method",
     "output_type": "error",
     "traceback": [
      "\u001b[0;31m---------------------------------------------------------------------------\u001b[0m",
      "\u001b[0;31mAttributeError\u001b[0m                            Traceback (most recent call last)",
      "\u001b[0;32m~/anaconda3/lib/python3.8/site-packages/pyomo/core/base/misc.py\u001b[0m in \u001b[0;36mdisplay\u001b[0;34m(obj, ostream)\u001b[0m\n\u001b[1;32m     26\u001b[0m     \u001b[0;32mtry\u001b[0m\u001b[0;34m:\u001b[0m\u001b[0;34m\u001b[0m\u001b[0;34m\u001b[0m\u001b[0m\n\u001b[0;32m---> 27\u001b[0;31m         \u001b[0mdisplay_fcn\u001b[0m \u001b[0;34m=\u001b[0m \u001b[0mobj\u001b[0m\u001b[0;34m.\u001b[0m\u001b[0mdisplay\u001b[0m\u001b[0;34m\u001b[0m\u001b[0;34m\u001b[0m\u001b[0m\n\u001b[0m\u001b[1;32m     28\u001b[0m     \u001b[0;32mexcept\u001b[0m \u001b[0mAttributeError\u001b[0m\u001b[0;34m:\u001b[0m\u001b[0;34m\u001b[0m\u001b[0;34m\u001b[0m\u001b[0m\n",
      "\u001b[0;31mAttributeError\u001b[0m: 'Styler' object has no attribute 'display'",
      "\nDuring handling of the above exception, another exception occurred:\n",
      "\u001b[0;31mTypeError\u001b[0m                                 Traceback (most recent call last)",
      "\u001b[0;32m<ipython-input-11-e145273cb6dc>\u001b[0m in \u001b[0;36m<module>\u001b[0;34m\u001b[0m\n\u001b[1;32m      7\u001b[0m \u001b[0mlng_cost\u001b[0m \u001b[0;34m=\u001b[0m \u001b[0;36m5\u001b[0m \u001b[0;31m# $/MMBtu\u001b[0m\u001b[0;34m\u001b[0m\u001b[0;34m\u001b[0m\u001b[0m\n\u001b[1;32m      8\u001b[0m \u001b[0;34m\u001b[0m\u001b[0m\n\u001b[0;32m----> 9\u001b[0;31m \u001b[0mdisplay\u001b[0m\u001b[0;34m(\u001b[0m\u001b[0mpd_centered\u001b[0m\u001b[0;34m(\u001b[0m\u001b[0mFuel_Costs\u001b[0m\u001b[0;34m)\u001b[0m\u001b[0;34m)\u001b[0m\u001b[0;34m\u001b[0m\u001b[0;34m\u001b[0m\u001b[0m\n\u001b[0m",
      "\u001b[0;32m~/anaconda3/lib/python3.8/site-packages/pyomo/core/base/misc.py\u001b[0m in \u001b[0;36mdisplay\u001b[0;34m(obj, ostream)\u001b[0m\n\u001b[1;32m     27\u001b[0m         \u001b[0mdisplay_fcn\u001b[0m \u001b[0;34m=\u001b[0m \u001b[0mobj\u001b[0m\u001b[0;34m.\u001b[0m\u001b[0mdisplay\u001b[0m\u001b[0;34m\u001b[0m\u001b[0;34m\u001b[0m\u001b[0m\n\u001b[1;32m     28\u001b[0m     \u001b[0;32mexcept\u001b[0m \u001b[0mAttributeError\u001b[0m\u001b[0;34m:\u001b[0m\u001b[0;34m\u001b[0m\u001b[0;34m\u001b[0m\u001b[0m\n\u001b[0;32m---> 29\u001b[0;31m         raise TypeError(\n\u001b[0m\u001b[1;32m     30\u001b[0m             \u001b[0;34m\"Error trying to display values for object of type %s:\\n\"\u001b[0m\u001b[0;34m\u001b[0m\u001b[0;34m\u001b[0m\u001b[0m\n\u001b[1;32m     31\u001b[0m             \u001b[0;34m\"\\tObject does not support the 'display()' method\"\u001b[0m\u001b[0;34m\u001b[0m\u001b[0;34m\u001b[0m\u001b[0m\n",
      "\u001b[0;31mTypeError\u001b[0m: Error trying to display values for object of type <class 'pandas.io.formats.style.Styler'>:\n\tObject does not support the 'display()' method"
     ]
    }
   ],
   "source": [
    "# this is arbitrary cost (it should be taken either price after relequifaction or destination hub price)\n",
    "lng_cost = 5 # $/MMBtu \n",
    "\n",
    "Fuel_Costs = Time * LNG_Carrier.loc[0, \"Boil off\"] * 0.98 * LNG_Carrier.loc[0, \"Capacity (m³)\"] * lng_cost * MMBtu\n",
    "\n",
    "# this is arbitrary cost (it should be taken either price after relequifaction or destination hub price)\n",
    "lng_cost = 5 # $/MMBtu \n",
    "\n",
    "display(pd_centered(Fuel_Costs))"
   ]
  },
  {
   "cell_type": "markdown",
   "metadata": {},
   "source": [
    "### 2.4 Agents and Broker Fees + Insurance"
   ]
  },
  {
   "cell_type": "code",
   "execution_count": 12,
   "metadata": {},
   "outputs": [
    {
     "ename": "TypeError",
     "evalue": "Error trying to display values for object of type <class 'pandas.io.formats.style.Styler'>:\n\tObject does not support the 'display()' method",
     "output_type": "error",
     "traceback": [
      "\u001b[0;31m---------------------------------------------------------------------------\u001b[0m",
      "\u001b[0;31mAttributeError\u001b[0m                            Traceback (most recent call last)",
      "\u001b[0;32m~/anaconda3/lib/python3.8/site-packages/pyomo/core/base/misc.py\u001b[0m in \u001b[0;36mdisplay\u001b[0;34m(obj, ostream)\u001b[0m\n\u001b[1;32m     26\u001b[0m     \u001b[0;32mtry\u001b[0m\u001b[0;34m:\u001b[0m\u001b[0;34m\u001b[0m\u001b[0;34m\u001b[0m\u001b[0m\n\u001b[0;32m---> 27\u001b[0;31m         \u001b[0mdisplay_fcn\u001b[0m \u001b[0;34m=\u001b[0m \u001b[0mobj\u001b[0m\u001b[0;34m.\u001b[0m\u001b[0mdisplay\u001b[0m\u001b[0;34m\u001b[0m\u001b[0;34m\u001b[0m\u001b[0m\n\u001b[0m\u001b[1;32m     28\u001b[0m     \u001b[0;32mexcept\u001b[0m \u001b[0mAttributeError\u001b[0m\u001b[0;34m:\u001b[0m\u001b[0;34m\u001b[0m\u001b[0;34m\u001b[0m\u001b[0m\n",
      "\u001b[0;31mAttributeError\u001b[0m: 'Styler' object has no attribute 'display'",
      "\nDuring handling of the above exception, another exception occurred:\n",
      "\u001b[0;31mTypeError\u001b[0m                                 Traceback (most recent call last)",
      "\u001b[0;32m<ipython-input-12-349e7ba21f97>\u001b[0m in \u001b[0;36m<module>\u001b[0;34m\u001b[0m\n\u001b[1;32m      1\u001b[0m \u001b[0mFees_and_Insurance\u001b[0m \u001b[0;34m=\u001b[0m \u001b[0;34m(\u001b[0m\u001b[0mTime\u001b[0m \u001b[0;34m+\u001b[0m \u001b[0;36m2\u001b[0m\u001b[0;34m)\u001b[0m \u001b[0;34m*\u001b[0m \u001b[0mAdditional_Costs\u001b[0m\u001b[0;34m.\u001b[0m\u001b[0mloc\u001b[0m\u001b[0;34m[\u001b[0m\u001b[0;36m0\u001b[0m\u001b[0;34m,\u001b[0m \u001b[0;34m\"Insurance ($/day)\"\u001b[0m\u001b[0;34m]\u001b[0m \u001b[0;34m+\u001b[0m \u001b[0mCharter_Costs\u001b[0m \u001b[0;34m*\u001b[0m \u001b[0mAdditional_Costs\u001b[0m\u001b[0;34m.\u001b[0m\u001b[0mloc\u001b[0m\u001b[0;34m[\u001b[0m\u001b[0;36m0\u001b[0m\u001b[0;34m,\u001b[0m \u001b[0;34m\"Fees (Percentage of Charter Costs)\"\u001b[0m\u001b[0;34m]\u001b[0m\u001b[0;34m\u001b[0m\u001b[0;34m\u001b[0m\u001b[0m\n\u001b[0;32m----> 2\u001b[0;31m \u001b[0mdisplay\u001b[0m\u001b[0;34m(\u001b[0m\u001b[0mpd_centered\u001b[0m\u001b[0;34m(\u001b[0m\u001b[0mFees_and_Insurance\u001b[0m\u001b[0;34m)\u001b[0m\u001b[0;34m)\u001b[0m\u001b[0;34m\u001b[0m\u001b[0;34m\u001b[0m\u001b[0m\n\u001b[0m",
      "\u001b[0;32m~/anaconda3/lib/python3.8/site-packages/pyomo/core/base/misc.py\u001b[0m in \u001b[0;36mdisplay\u001b[0;34m(obj, ostream)\u001b[0m\n\u001b[1;32m     27\u001b[0m         \u001b[0mdisplay_fcn\u001b[0m \u001b[0;34m=\u001b[0m \u001b[0mobj\u001b[0m\u001b[0;34m.\u001b[0m\u001b[0mdisplay\u001b[0m\u001b[0;34m\u001b[0m\u001b[0;34m\u001b[0m\u001b[0m\n\u001b[1;32m     28\u001b[0m     \u001b[0;32mexcept\u001b[0m \u001b[0mAttributeError\u001b[0m\u001b[0;34m:\u001b[0m\u001b[0;34m\u001b[0m\u001b[0;34m\u001b[0m\u001b[0m\n\u001b[0;32m---> 29\u001b[0;31m         raise TypeError(\n\u001b[0m\u001b[1;32m     30\u001b[0m             \u001b[0;34m\"Error trying to display values for object of type %s:\\n\"\u001b[0m\u001b[0;34m\u001b[0m\u001b[0;34m\u001b[0m\u001b[0m\n\u001b[1;32m     31\u001b[0m             \u001b[0;34m\"\\tObject does not support the 'display()' method\"\u001b[0m\u001b[0;34m\u001b[0m\u001b[0;34m\u001b[0m\u001b[0m\n",
      "\u001b[0;31mTypeError\u001b[0m: Error trying to display values for object of type <class 'pandas.io.formats.style.Styler'>:\n\tObject does not support the 'display()' method"
     ]
    }
   ],
   "source": [
    "Fees_and_Insurance = (Time + 2) * Additional_Costs.loc[0, \"Insurance ($/day)\"] + Charter_Costs * Additional_Costs.loc[0, \"Fees (Percentage of Charter Costs)\"]\n",
    "display(pd_centered(Fees_and_Insurance))"
   ]
  },
  {
   "cell_type": "markdown",
   "metadata": {},
   "source": [
    "### 2.5 Suez/Panama Canal Fee"
   ]
  },
  {
   "cell_type": "code",
   "execution_count": 13,
   "metadata": {},
   "outputs": [
    {
     "ename": "TypeError",
     "evalue": "Error trying to display values for object of type <class 'pandas.io.formats.style.Styler'>:\n\tObject does not support the 'display()' method",
     "output_type": "error",
     "traceback": [
      "\u001b[0;31m---------------------------------------------------------------------------\u001b[0m",
      "\u001b[0;31mAttributeError\u001b[0m                            Traceback (most recent call last)",
      "\u001b[0;32m~/anaconda3/lib/python3.8/site-packages/pyomo/core/base/misc.py\u001b[0m in \u001b[0;36mdisplay\u001b[0;34m(obj, ostream)\u001b[0m\n\u001b[1;32m     26\u001b[0m     \u001b[0;32mtry\u001b[0m\u001b[0;34m:\u001b[0m\u001b[0;34m\u001b[0m\u001b[0;34m\u001b[0m\u001b[0m\n\u001b[0;32m---> 27\u001b[0;31m         \u001b[0mdisplay_fcn\u001b[0m \u001b[0;34m=\u001b[0m \u001b[0mobj\u001b[0m\u001b[0;34m.\u001b[0m\u001b[0mdisplay\u001b[0m\u001b[0;34m\u001b[0m\u001b[0;34m\u001b[0m\u001b[0m\n\u001b[0m\u001b[1;32m     28\u001b[0m     \u001b[0;32mexcept\u001b[0m \u001b[0mAttributeError\u001b[0m\u001b[0;34m:\u001b[0m\u001b[0;34m\u001b[0m\u001b[0;34m\u001b[0m\u001b[0m\n",
      "\u001b[0;31mAttributeError\u001b[0m: 'Styler' object has no attribute 'display'",
      "\nDuring handling of the above exception, another exception occurred:\n",
      "\u001b[0;31mTypeError\u001b[0m                                 Traceback (most recent call last)",
      "\u001b[0;32m<ipython-input-13-ce16a2960a4e>\u001b[0m in \u001b[0;36m<module>\u001b[0;34m\u001b[0m\n\u001b[1;32m     16\u001b[0m             \u001b[0mCanal_Fees\u001b[0m\u001b[0;34m.\u001b[0m\u001b[0mloc\u001b[0m\u001b[0;34m[\u001b[0m\u001b[0mi\u001b[0m\u001b[0;34m,\u001b[0m\u001b[0mj\u001b[0m\u001b[0;34m]\u001b[0m \u001b[0;34m+=\u001b[0m \u001b[0mAdditional_Costs\u001b[0m\u001b[0;34m.\u001b[0m\u001b[0mloc\u001b[0m\u001b[0;34m[\u001b[0m\u001b[0;36m0\u001b[0m\u001b[0;34m,\u001b[0m \u001b[0;34m\"Suez Canal Costs ($/Cargo)\"\u001b[0m\u001b[0;34m]\u001b[0m\u001b[0;34m\u001b[0m\u001b[0;34m\u001b[0m\u001b[0m\n\u001b[1;32m     17\u001b[0m \u001b[0;34m\u001b[0m\u001b[0m\n\u001b[0;32m---> 18\u001b[0;31m \u001b[0mdisplay\u001b[0m\u001b[0;34m(\u001b[0m\u001b[0mpd_centered\u001b[0m\u001b[0;34m(\u001b[0m\u001b[0mCanal_Fees\u001b[0m\u001b[0;34m)\u001b[0m\u001b[0;34m)\u001b[0m\u001b[0;34m\u001b[0m\u001b[0;34m\u001b[0m\u001b[0m\n\u001b[0m",
      "\u001b[0;32m~/anaconda3/lib/python3.8/site-packages/pyomo/core/base/misc.py\u001b[0m in \u001b[0;36mdisplay\u001b[0;34m(obj, ostream)\u001b[0m\n\u001b[1;32m     27\u001b[0m         \u001b[0mdisplay_fcn\u001b[0m \u001b[0;34m=\u001b[0m \u001b[0mobj\u001b[0m\u001b[0;34m.\u001b[0m\u001b[0mdisplay\u001b[0m\u001b[0;34m\u001b[0m\u001b[0;34m\u001b[0m\u001b[0m\n\u001b[1;32m     28\u001b[0m     \u001b[0;32mexcept\u001b[0m \u001b[0mAttributeError\u001b[0m\u001b[0;34m:\u001b[0m\u001b[0;34m\u001b[0m\u001b[0;34m\u001b[0m\u001b[0m\n\u001b[0;32m---> 29\u001b[0;31m         raise TypeError(\n\u001b[0m\u001b[1;32m     30\u001b[0m             \u001b[0;34m\"Error trying to display values for object of type %s:\\n\"\u001b[0m\u001b[0;34m\u001b[0m\u001b[0;34m\u001b[0m\u001b[0m\n\u001b[1;32m     31\u001b[0m             \u001b[0;34m\"\\tObject does not support the 'display()' method\"\u001b[0m\u001b[0;34m\u001b[0m\u001b[0;34m\u001b[0m\u001b[0m\n",
      "\u001b[0;31mTypeError\u001b[0m: Error trying to display values for object of type <class 'pandas.io.formats.style.Styler'>:\n\tObject does not support the 'display()' method"
     ]
    }
   ],
   "source": [
    "# create empty data frames for canal fees and port costs\n",
    "Canal_Fees = pd.DataFrame(np.zeros((10,10)),\n",
    "                   \n",
    "                    index = [\"Qatar\", \"Australia\", \"USA\", \"Russia\", \"Malaysia\", \n",
    "                             \"Nigeria\", \"Trinidad & Tobago\", \"Algeria\", \"Indonesia\",\n",
    "                             \"Oman\"],\n",
    "\n",
    "                    columns = (\"Japan\", \"China\", \"South Korea\", \"India\", \"France\",\n",
    "                               \"Spain\", \"UK\", \"Italy\", \"Turkey\", \"Belgium\"))\n",
    "\n",
    "for i in Distances.index:\n",
    "    for j in Distances.columns:\n",
    "        if (((Distances.loc[i,j]) % 5 == 0) and ((Distances.loc[i,j]) %10 != 0)):\n",
    "            Canal_Fees.loc[i,j] += Additional_Costs.loc[0, \"Panama Canal Costs ($/Cargo)\"]\n",
    "        elif ((Distances.loc[i,j]) % 10 == 0):\n",
    "            Canal_Fees.loc[i,j] += Additional_Costs.loc[0, \"Suez Canal Costs ($/Cargo)\"]\n",
    "            \n",
    "display(pd_centered(Canal_Fees))"
   ]
  },
  {
   "cell_type": "markdown",
   "metadata": {},
   "source": [
    "### 2.6 Port Costs"
   ]
  },
  {
   "cell_type": "code",
   "execution_count": 14,
   "metadata": {},
   "outputs": [
    {
     "ename": "TypeError",
     "evalue": "Error trying to display values for object of type <class 'pandas.io.formats.style.Styler'>:\n\tObject does not support the 'display()' method",
     "output_type": "error",
     "traceback": [
      "\u001b[0;31m---------------------------------------------------------------------------\u001b[0m",
      "\u001b[0;31mAttributeError\u001b[0m                            Traceback (most recent call last)",
      "\u001b[0;32m~/anaconda3/lib/python3.8/site-packages/pyomo/core/base/misc.py\u001b[0m in \u001b[0;36mdisplay\u001b[0;34m(obj, ostream)\u001b[0m\n\u001b[1;32m     26\u001b[0m     \u001b[0;32mtry\u001b[0m\u001b[0;34m:\u001b[0m\u001b[0;34m\u001b[0m\u001b[0;34m\u001b[0m\u001b[0m\n\u001b[0;32m---> 27\u001b[0;31m         \u001b[0mdisplay_fcn\u001b[0m \u001b[0;34m=\u001b[0m \u001b[0mobj\u001b[0m\u001b[0;34m.\u001b[0m\u001b[0mdisplay\u001b[0m\u001b[0;34m\u001b[0m\u001b[0;34m\u001b[0m\u001b[0m\n\u001b[0m\u001b[1;32m     28\u001b[0m     \u001b[0;32mexcept\u001b[0m \u001b[0mAttributeError\u001b[0m\u001b[0;34m:\u001b[0m\u001b[0;34m\u001b[0m\u001b[0;34m\u001b[0m\u001b[0m\n",
      "\u001b[0;31mAttributeError\u001b[0m: 'Styler' object has no attribute 'display'",
      "\nDuring handling of the above exception, another exception occurred:\n",
      "\u001b[0;31mTypeError\u001b[0m                                 Traceback (most recent call last)",
      "\u001b[0;32m<ipython-input-14-0961347460a0>\u001b[0m in \u001b[0;36m<module>\u001b[0;34m\u001b[0m\n\u001b[1;32m     10\u001b[0m \u001b[0;34m\u001b[0m\u001b[0m\n\u001b[1;32m     11\u001b[0m \u001b[0mPort_Costs\u001b[0m \u001b[0;34m+=\u001b[0m \u001b[0mAdditional_Costs\u001b[0m\u001b[0;34m.\u001b[0m\u001b[0mloc\u001b[0m\u001b[0;34m[\u001b[0m\u001b[0;36m0\u001b[0m\u001b[0;34m,\u001b[0m \u001b[0;34m\"Port Costs ($ for 3 days)\"\u001b[0m\u001b[0;34m]\u001b[0m\u001b[0;34m\u001b[0m\u001b[0;34m\u001b[0m\u001b[0m\n\u001b[0;32m---> 12\u001b[0;31m \u001b[0mdisplay\u001b[0m\u001b[0;34m(\u001b[0m\u001b[0mpd_centered\u001b[0m\u001b[0;34m(\u001b[0m\u001b[0mPort_Costs\u001b[0m\u001b[0;34m)\u001b[0m\u001b[0;34m)\u001b[0m\u001b[0;34m\u001b[0m\u001b[0;34m\u001b[0m\u001b[0m\n\u001b[0m",
      "\u001b[0;32m~/anaconda3/lib/python3.8/site-packages/pyomo/core/base/misc.py\u001b[0m in \u001b[0;36mdisplay\u001b[0;34m(obj, ostream)\u001b[0m\n\u001b[1;32m     27\u001b[0m         \u001b[0mdisplay_fcn\u001b[0m \u001b[0;34m=\u001b[0m \u001b[0mobj\u001b[0m\u001b[0;34m.\u001b[0m\u001b[0mdisplay\u001b[0m\u001b[0;34m\u001b[0m\u001b[0;34m\u001b[0m\u001b[0m\n\u001b[1;32m     28\u001b[0m     \u001b[0;32mexcept\u001b[0m \u001b[0mAttributeError\u001b[0m\u001b[0;34m:\u001b[0m\u001b[0;34m\u001b[0m\u001b[0;34m\u001b[0m\u001b[0m\n\u001b[0;32m---> 29\u001b[0;31m         raise TypeError(\n\u001b[0m\u001b[1;32m     30\u001b[0m             \u001b[0;34m\"Error trying to display values for object of type %s:\\n\"\u001b[0m\u001b[0;34m\u001b[0m\u001b[0;34m\u001b[0m\u001b[0m\n\u001b[1;32m     31\u001b[0m             \u001b[0;34m\"\\tObject does not support the 'display()' method\"\u001b[0m\u001b[0;34m\u001b[0m\u001b[0;34m\u001b[0m\u001b[0m\n",
      "\u001b[0;31mTypeError\u001b[0m: Error trying to display values for object of type <class 'pandas.io.formats.style.Styler'>:\n\tObject does not support the 'display()' method"
     ]
    }
   ],
   "source": [
    "# empty data frame for port costs\n",
    "Port_Costs = pd.DataFrame(np.zeros((10,10)),\n",
    "                   \n",
    "                    index = [\"Qatar\", \"Australia\", \"USA\", \"Russia\", \"Malaysia\", \n",
    "                             \"Nigeria\", \"Trinidad & Tobago\", \"Algeria\", \"Indonesia\",\n",
    "                             \"Oman\"],\n",
    "\n",
    "                    columns = (\"Japan\", \"China\", \"South Korea\", \"India\", \"France\",\n",
    "                               \"Spain\", \"UK\", \"Italy\", \"Turkey\", \"Belgium\"))\n",
    "\n",
    "Port_Costs += Additional_Costs.loc[0, \"Port Costs ($ for 3 days)\"]\n",
    "display(pd_centered(Port_Costs))"
   ]
  },
  {
   "cell_type": "markdown",
   "metadata": {},
   "source": [
    "### 2.7 Total Costs of Transportation ($/MMBtu) "
   ]
  },
  {
   "cell_type": "code",
   "execution_count": 15,
   "metadata": {
    "scrolled": true
   },
   "outputs": [
    {
     "ename": "TypeError",
     "evalue": "Error trying to display values for object of type <class 'pandas.io.formats.style.Styler'>:\n\tObject does not support the 'display()' method",
     "output_type": "error",
     "traceback": [
      "\u001b[0;31m---------------------------------------------------------------------------\u001b[0m",
      "\u001b[0;31mAttributeError\u001b[0m                            Traceback (most recent call last)",
      "\u001b[0;32m~/anaconda3/lib/python3.8/site-packages/pyomo/core/base/misc.py\u001b[0m in \u001b[0;36mdisplay\u001b[0;34m(obj, ostream)\u001b[0m\n\u001b[1;32m     26\u001b[0m     \u001b[0;32mtry\u001b[0m\u001b[0;34m:\u001b[0m\u001b[0;34m\u001b[0m\u001b[0;34m\u001b[0m\u001b[0m\n\u001b[0;32m---> 27\u001b[0;31m         \u001b[0mdisplay_fcn\u001b[0m \u001b[0;34m=\u001b[0m \u001b[0mobj\u001b[0m\u001b[0;34m.\u001b[0m\u001b[0mdisplay\u001b[0m\u001b[0;34m\u001b[0m\u001b[0;34m\u001b[0m\u001b[0m\n\u001b[0m\u001b[1;32m     28\u001b[0m     \u001b[0;32mexcept\u001b[0m \u001b[0mAttributeError\u001b[0m\u001b[0;34m:\u001b[0m\u001b[0;34m\u001b[0m\u001b[0;34m\u001b[0m\u001b[0m\n",
      "\u001b[0;31mAttributeError\u001b[0m: 'Styler' object has no attribute 'display'",
      "\nDuring handling of the above exception, another exception occurred:\n",
      "\u001b[0;31mTypeError\u001b[0m                                 Traceback (most recent call last)",
      "\u001b[0;32m<ipython-input-15-73cf5ef63f06>\u001b[0m in \u001b[0;36m<module>\u001b[0;34m\u001b[0m\n\u001b[1;32m      3\u001b[0m \u001b[0;34m\u001b[0m\u001b[0m\n\u001b[1;32m      4\u001b[0m \u001b[0mTransport_Costs_MMBtu\u001b[0m \u001b[0;34m=\u001b[0m \u001b[0mTransport_Costs\u001b[0m \u001b[0;34m/\u001b[0m \u001b[0;34m(\u001b[0m\u001b[0;36m0.94\u001b[0m \u001b[0;34m*\u001b[0m \u001b[0mLNG_Carrier\u001b[0m\u001b[0;34m.\u001b[0m\u001b[0mloc\u001b[0m\u001b[0;34m[\u001b[0m\u001b[0;36m0\u001b[0m\u001b[0;34m,\u001b[0m \u001b[0;34m\"Capacity (m³)\"\u001b[0m\u001b[0;34m]\u001b[0m \u001b[0;34m*\u001b[0m \u001b[0mMMBtu\u001b[0m\u001b[0;34m)\u001b[0m \u001b[0;31m# 1-heel-boil_off = 0.94\u001b[0m\u001b[0;34m\u001b[0m\u001b[0;34m\u001b[0m\u001b[0m\n\u001b[0;32m----> 5\u001b[0;31m \u001b[0mdisplay\u001b[0m\u001b[0;34m(\u001b[0m\u001b[0mpd_centered\u001b[0m\u001b[0;34m(\u001b[0m\u001b[0mTransport_Costs_MMBtu\u001b[0m\u001b[0;34m)\u001b[0m\u001b[0;34m)\u001b[0m\u001b[0;34m\u001b[0m\u001b[0;34m\u001b[0m\u001b[0m\n\u001b[0m",
      "\u001b[0;32m~/anaconda3/lib/python3.8/site-packages/pyomo/core/base/misc.py\u001b[0m in \u001b[0;36mdisplay\u001b[0;34m(obj, ostream)\u001b[0m\n\u001b[1;32m     27\u001b[0m         \u001b[0mdisplay_fcn\u001b[0m \u001b[0;34m=\u001b[0m \u001b[0mobj\u001b[0m\u001b[0;34m.\u001b[0m\u001b[0mdisplay\u001b[0m\u001b[0;34m\u001b[0m\u001b[0;34m\u001b[0m\u001b[0m\n\u001b[1;32m     28\u001b[0m     \u001b[0;32mexcept\u001b[0m \u001b[0mAttributeError\u001b[0m\u001b[0;34m:\u001b[0m\u001b[0;34m\u001b[0m\u001b[0;34m\u001b[0m\u001b[0m\n\u001b[0;32m---> 29\u001b[0;31m         raise TypeError(\n\u001b[0m\u001b[1;32m     30\u001b[0m             \u001b[0;34m\"Error trying to display values for object of type %s:\\n\"\u001b[0m\u001b[0;34m\u001b[0m\u001b[0;34m\u001b[0m\u001b[0m\n\u001b[1;32m     31\u001b[0m             \u001b[0;34m\"\\tObject does not support the 'display()' method\"\u001b[0m\u001b[0;34m\u001b[0m\u001b[0;34m\u001b[0m\u001b[0m\n",
      "\u001b[0;31mTypeError\u001b[0m: Error trying to display values for object of type <class 'pandas.io.formats.style.Styler'>:\n\tObject does not support the 'display()' method"
     ]
    }
   ],
   "source": [
    "Transport_Costs =  Charter_Costs + Fuel_Costs + Fees_and_Insurance + Canal_Fees + Port_Costs\n",
    "#Transport_Costs\n",
    "\n",
    "Transport_Costs_MMBtu = Transport_Costs / (0.94 * LNG_Carrier.loc[0, \"Capacity (m³)\"] * MMBtu) # 1-heel-boil_off = 0.94\n",
    "display(pd_centered(Transport_Costs_MMBtu))"
   ]
  },
  {
   "cell_type": "markdown",
   "metadata": {},
   "source": [
    "### 2.8 Total Costs in $/MMBtu\n",
    "\n",
    "Total costs per unit of transported LNG = Feedstock Price + Liquefaction Costs + Total Costs of Transportation"
   ]
  },
  {
   "cell_type": "code",
   "execution_count": 16,
   "metadata": {},
   "outputs": [
    {
     "ename": "TypeError",
     "evalue": "Error trying to display values for object of type <class 'pandas.io.formats.style.Styler'>:\n\tObject does not support the 'display()' method",
     "output_type": "error",
     "traceback": [
      "\u001b[0;31m---------------------------------------------------------------------------\u001b[0m",
      "\u001b[0;31mAttributeError\u001b[0m                            Traceback (most recent call last)",
      "\u001b[0;32m~/anaconda3/lib/python3.8/site-packages/pyomo/core/base/misc.py\u001b[0m in \u001b[0;36mdisplay\u001b[0;34m(obj, ostream)\u001b[0m\n\u001b[1;32m     26\u001b[0m     \u001b[0;32mtry\u001b[0m\u001b[0;34m:\u001b[0m\u001b[0;34m\u001b[0m\u001b[0;34m\u001b[0m\u001b[0m\n\u001b[0;32m---> 27\u001b[0;31m         \u001b[0mdisplay_fcn\u001b[0m \u001b[0;34m=\u001b[0m \u001b[0mobj\u001b[0m\u001b[0;34m.\u001b[0m\u001b[0mdisplay\u001b[0m\u001b[0;34m\u001b[0m\u001b[0;34m\u001b[0m\u001b[0m\n\u001b[0m\u001b[1;32m     28\u001b[0m     \u001b[0;32mexcept\u001b[0m \u001b[0mAttributeError\u001b[0m\u001b[0;34m:\u001b[0m\u001b[0;34m\u001b[0m\u001b[0;34m\u001b[0m\u001b[0m\n",
      "\u001b[0;31mAttributeError\u001b[0m: 'Styler' object has no attribute 'display'",
      "\nDuring handling of the above exception, another exception occurred:\n",
      "\u001b[0;31mTypeError\u001b[0m                                 Traceback (most recent call last)",
      "\u001b[0;32m<ipython-input-16-6d78abb09ecd>\u001b[0m in \u001b[0;36m<module>\u001b[0;34m\u001b[0m\n\u001b[1;32m     32\u001b[0m \u001b[0;31m#print(Breakeven.head(3))\u001b[0m\u001b[0;34m\u001b[0m\u001b[0;34m\u001b[0m\u001b[0;34m\u001b[0m\u001b[0m\n\u001b[1;32m     33\u001b[0m \u001b[0mTotal_Costs\u001b[0m \u001b[0;34m=\u001b[0m \u001b[0mBreakeven\u001b[0m \u001b[0;34m+\u001b[0m \u001b[0mTransport_Costs_MMBtu\u001b[0m\u001b[0;34m\u001b[0m\u001b[0;34m\u001b[0m\u001b[0m\n\u001b[0;32m---> 34\u001b[0;31m \u001b[0mdisplay\u001b[0m\u001b[0;34m(\u001b[0m\u001b[0mpd_centered\u001b[0m\u001b[0;34m(\u001b[0m\u001b[0mTotal_Costs\u001b[0m\u001b[0;34m)\u001b[0m\u001b[0;34m)\u001b[0m\u001b[0;34m\u001b[0m\u001b[0;34m\u001b[0m\u001b[0m\n\u001b[0m",
      "\u001b[0;32m~/anaconda3/lib/python3.8/site-packages/pyomo/core/base/misc.py\u001b[0m in \u001b[0;36mdisplay\u001b[0;34m(obj, ostream)\u001b[0m\n\u001b[1;32m     27\u001b[0m         \u001b[0mdisplay_fcn\u001b[0m \u001b[0;34m=\u001b[0m \u001b[0mobj\u001b[0m\u001b[0;34m.\u001b[0m\u001b[0mdisplay\u001b[0m\u001b[0;34m\u001b[0m\u001b[0;34m\u001b[0m\u001b[0m\n\u001b[1;32m     28\u001b[0m     \u001b[0;32mexcept\u001b[0m \u001b[0mAttributeError\u001b[0m\u001b[0;34m:\u001b[0m\u001b[0;34m\u001b[0m\u001b[0;34m\u001b[0m\u001b[0m\n\u001b[0;32m---> 29\u001b[0;31m         raise TypeError(\n\u001b[0m\u001b[1;32m     30\u001b[0m             \u001b[0;34m\"Error trying to display values for object of type %s:\\n\"\u001b[0m\u001b[0;34m\u001b[0m\u001b[0;34m\u001b[0m\u001b[0m\n\u001b[1;32m     31\u001b[0m             \u001b[0;34m\"\\tObject does not support the 'display()' method\"\u001b[0m\u001b[0;34m\u001b[0m\u001b[0;34m\u001b[0m\u001b[0m\n",
      "\u001b[0;31mTypeError\u001b[0m: Error trying to display values for object of type <class 'pandas.io.formats.style.Styler'>:\n\tObject does not support the 'display()' method"
     ]
    }
   ],
   "source": [
    "# taken from EXP_Countries df\n",
    "\n",
    "Breakeven = pd.DataFrame([(2.5, 2.5, 2.5, 2.5, 2.5, 2.5, 2.5, 2.5, 2.5, 2.5),\n",
    "                          \n",
    "                        (6.5, 6.5, 6.5, 6.5, 6.5, 6.5, 6.5, 6.5, 6.5, 6.5),\n",
    "                          \n",
    "                        (6.0, 6.0, 6.0, 6.0, 6.0, 6.0, 6.0, 6.0, 6.0, 6.0),\n",
    "                          \n",
    "                        (4.5, 4.5, 4.5, 4.5, 4.5, 4.5, 4.5, 4.5, 4.5, 4.5),\n",
    "                          \n",
    "                        (6.0, 6.0, 6.0, 6.0, 6.0, 6.0, 6.0, 6.0, 6.0, 6.0),\n",
    "                          \n",
    "                        (4.08, 4.08, 4.08, 4.08, 4.08, 4.08, 4.08, 4.08, 4.08, 4.08),\n",
    "                          \n",
    "                        (5.1, 5.1, 5.1, 5.1, 5.1, 5.1, 5.1, 5.1, 5.1, 5.1),\n",
    "                          \n",
    "                        (2.5, 2.5, 2.5, 2.5, 2.5, 2.5, 2.5, 2.5, 2.5, 2.5),\n",
    "                          \n",
    "                        (6.0, 6.0, 6.0, 6.0, 6.0, 6.0, 6.0, 6.0, 6.0, 6.0),\n",
    "                          \n",
    "                        (3.5, 3.5, 3.5, 3.5, 3.5, 3.5, 3.5, 3.5, 3.5, 3.5)\n",
    "\n",
    "                       ],\n",
    "\n",
    "                  index = [\"Qatar\", \"Australia\", \"USA\", \"Russia\", \"Malaysia\", \"Nigeria\",\n",
    "                           \"Trinidad & Tobago\", \"Algeria\", \"Indonesia\",\"Oman\"],\n",
    "\n",
    "                  columns = (\"Japan\", \"China\", \"South Korea\", \"India\", \"France\",\n",
    "                             \"Spain\", \"UK\", \"Italy\", \"Turkey\", \"Belgium\"))\n",
    "\n",
    "\n",
    "#print(Breakeven.head(3))\n",
    "Total_Costs = Breakeven + Transport_Costs_MMBtu\n",
    "display(pd_centered(Total_Costs))"
   ]
  },
  {
   "cell_type": "markdown",
   "metadata": {},
   "source": [
    "## 3 Pyomo Model"
   ]
  },
  {
   "cell_type": "markdown",
   "metadata": {},
   "source": [
    "### 3.1 Data File"
   ]
  },
  {
   "cell_type": "code",
   "execution_count": 24,
   "metadata": {},
   "outputs": [],
   "source": [
    "# Extract \"Countries\", \"Exports\" and \"Imports\" from \"Exp_Countries\" and \"Imp_Countries\" dfs\n",
    "# and create dictionaries\n",
    "\n",
    "Supply = Exp_Countries.set_index(\"Country\")[\"Export (MMBtu)\"].to_dict()\n",
    "#print(Supply)\n",
    "\n",
    "Demand = Imp_Countries.set_index(\"Country\")[\"Import (MMBtu)\"].to_dict()\n",
    "#print(Demand)\n",
    "\n",
    "# I would really like to get \"Cost\" dictionary straight from the \"Total_Costs\" df, since doing it \n",
    "# this way is real pain in the ...\n",
    "Cost = {\n",
    "    (\"Japan\", \"Qatar\"): 3.473,\n",
    "    (\"China\", \"Qatar\"): 3.387,\n",
    "    (\"South Korea\", \"Qatar\"): 3.428,\n",
    "    (\"India\", \"Qatar\"): 2.797,\n",
    "    (\"France\", \"Qatar\"): 3.725,\n",
    "    (\"Spain\", \"Qatar\"): 3.519,\n",
    "    (\"UK\", \"Qatar\"): 3.728,\n",
    "    (\"Italy\", \"Qatar\"): 3.484,\n",
    "    (\"Turkey\", \"Qatar\"): 3.364,\n",
    "    (\"Belgium\", \"Qatar\"): 3.729,\n",
    "    (\"Japan\", \"Australia\"): 7.129,\n",
    "    (\"China\", \"Australia\"): 7.165,\n",
    "    (\"South Korea\", \"Australia\"): 7.188,\n",
    "    (\"India\", \"Australia\"): 7.396,\n",
    "    (\"France\", \"Australia\"): 8.427,\n",
    "    (\"Spain\", \"Australia\"): 8.220,\n",
    "    (\"UK\", \"Australia\"): 8.429,\n",
    "    (\"Italy\", \"Australia\"): 8.185,\n",
    "    (\"Turkey\", \"Australia\"): 8.066,\n",
    "    (\"Belgium\", \"Australia\"): 8.430,\n",
    "    (\"Japan\", \"USA\"): 7.581,\n",
    "    (\"China\", \"USA\"): 7.694,\n",
    "    (\"South Korea\", \"USA\"): 7.685,\n",
    "    (\"India\", \"USA\"): 7.638,\n",
    "    (\"France\", \"USA\"): 6.762,\n",
    "    (\"Spain\", \"USA\"): 6.804,\n",
    "    (\"UK\", \"USA\"): 6.764,\n",
    "    (\"Italy\", \"USA\"): 6.953,\n",
    "    (\"Turkey\", \"USA\"): 6.951,\n",
    "    (\"Belgium\", \"USA\"): 6.765,\n",
    "    (\"Japan\", \"Russia\"): 5.268,\n",
    "    (\"China\", \"Russia\"): 5.354,\n",
    "    (\"South Korea\", \"Russia\"): 5.364,\n",
    "    (\"India\", \"Russia\"): 6.233,\n",
    "    (\"France\", \"Russia\"): 4.952,\n",
    "    (\"Spain\", \"Russia\"): 5.180,\n",
    "    (\"UK\", \"Russia\"): 4.954,\n",
    "    (\"Italy\", \"Russia\"): 5.348,\n",
    "    (\"Turkey\", \"Russia\"): 5.339,\n",
    "    (\"Belgium\", \"Russia\"): 4.950,\n",
    "    (\"Japan\", \"Malaysia\"): 6.424,\n",
    "    (\"China\", \"Malaysia\"): 6.343,\n",
    "    (\"South Korea\", \"Malaysia\"): 6.388,\n",
    "    (\"India\", \"Malaysia\"): 6.548,\n",
    "    (\"France\", \"Malaysia\"): 7.580,\n",
    "    (\"Spain\", \"Malaysia\"): 7.374,\n",
    "    (\"UK\", \"Malaysia\"): 7.583,\n",
    "    (\"Italy\", \"Malaysia\"): 7.339,\n",
    "    (\"Turkey\", \"Malaysia\"): 7.220,\n",
    "    (\"Belgium\", \"Malaysia\"): 7.584,\n",
    "    (\"Japan\", \"Nigeria\"): 5.603,\n",
    "    (\"China\", \"Nigeria\"): 5.517,\n",
    "    (\"South Korea\", \"Nigeria\"): 5.558,\n",
    "    (\"India\", \"Nigeria\"): 5.115,\n",
    "    (\"France\", \"Nigeria\"): 4.765,\n",
    "    (\"Spain\", \"Nigeria\"): 4.705,\n",
    "    (\"UK\", \"Nigeria\"): 4.767,\n",
    "    (\"Italy\", \"Nigeria\"): 4.854,\n",
    "    (\"Turkey\", \"Nigeria\"): 4.852,\n",
    "    (\"Belgium\", \"Nigeria\"): 4.769,\n",
    "    (\"Japan\", \"Trinidad & Tobago\"): 6.639,\n",
    "    (\"China\", \"Trinidad & Tobago\"): 6.752,\n",
    "    (\"South Korea\", \"Trinidad & Tobago\"): 6.740,\n",
    "    (\"India\", \"Trinidad & Tobago\"): 6.601,\n",
    "    (\"France\", \"Trinidad & Tobago\"): 5.741,\n",
    "    (\"Spain\", \"Trinidad & Tobago\"): 5.738,\n",
    "    (\"UK\", \"Trinidad & Tobago\"): 5.744,\n",
    "    (\"Italy\", \"Trinidad & Tobago\"): 5.887,\n",
    "    (\"Turkey\", \"Trinidad & Tobago\"): 5.885,\n",
    "    (\"Belgium\", \"Trinidad & Tobago\"): 5.745,\n",
    "    (\"Japan\", \"Algeria\"): 4.159,\n",
    "    (\"China\", \"Algeria\"): 4.074,\n",
    "    (\"South Korea\", \"Algeria\"): 4.114,\n",
    "    (\"India\", \"Algeria\"): 3.528,\n",
    "    (\"France\", \"Algeria\"): 2.826,\n",
    "    (\"Spain\", \"Algeria\"): 2.673,\n",
    "    (\"UK\", \"Algeria\"): 2.828,\n",
    "    (\"Italy\", \"Algeria\"): 2.814,\n",
    "    (\"Turkey\", \"Algeria\"): 2.812,\n",
    "    (\"Belgium\", \"Algeria\"): 2.830, \n",
    "    (\"Japan\", \"Indonesia\"): 6.472,\n",
    "    (\"China\", \"Indonesia\"): 6.411,\n",
    "    (\"South Korea\", \"Indonesia\"): 6.451,\n",
    "    (\"India\", \"Indonesia\"): 6.585,\n",
    "    (\"France\", \"Indonesia\"): 7.617,\n",
    "    (\"Spain\", \"Indonesia\"): 7.410,\n",
    "    (\"UK\", \"Indonesia\"): 7.619,\n",
    "    (\"Italy\", \"Indonesia\"): 7.374,\n",
    "    (\"Turkey\", \"Indonesia\"): 7.255,\n",
    "    (\"Belgium\",\"Indonesia\"): 7.620,\n",
    "    (\"Japan\", \"Oman\"): 4.413,\n",
    "    (\"China\", \"Oman\"): 4.326,\n",
    "    (\"South Korea\", \"Oman\"): 4.367,\n",
    "    (\"India\", \"Oman\"): 3.739,\n",
    "    (\"France\", \"Oman\"): 4.663,\n",
    "    (\"Spain\", \"Oman\"): 4.458,\n",
    "    (\"UK\", \"Oman\"): 4.667,\n",
    "    (\"Italy\", \"Oman\"): 4.421,\n",
    "    (\"Turkey\", \"Oman\"): 4.302,\n",
    "    (\"Belgium\", \"Oman\"): 4.668    \n",
    "}\n",
    "\n",
    "#print(Cost)"
   ]
  },
  {
   "cell_type": "markdown",
   "metadata": {},
   "source": [
    "### 3.1 Model File"
   ]
  },
  {
   "cell_type": "code",
   "execution_count": 25,
   "metadata": {},
   "outputs": [
    {
     "name": "stdout",
     "output_type": "stream",
     "text": [
      "# ==========================================================\n",
      "# = Solver Results                                         =\n",
      "# ==========================================================\n",
      "# ----------------------------------------------------------\n",
      "#   Problem Information\n",
      "# ----------------------------------------------------------\n",
      "Problem: \n",
      "- Name: unknown\n",
      "  Lower bound: 44639429781300.0\n",
      "  Upper bound: 44639429781300.0\n",
      "  Number of objectives: 1\n",
      "  Number of constraints: 21\n",
      "  Number of variables: 101\n",
      "  Number of nonzeros: 201\n",
      "  Sense: minimize\n",
      "# ----------------------------------------------------------\n",
      "#   Solver Information\n",
      "# ----------------------------------------------------------\n",
      "Solver: \n",
      "- Status: ok\n",
      "  Termination condition: optimal\n",
      "  Statistics: \n",
      "    Branch and bound: \n",
      "      Number of bounded subproblems: 0\n",
      "      Number of created subproblems: 0\n",
      "  Error rc: 0\n",
      "  Time: 0.02081131935119629\n",
      "# ----------------------------------------------------------\n",
      "#   Solution Information\n",
      "# ----------------------------------------------------------\n",
      "Solution: \n",
      "- number of solutions: 0\n",
      "  number of solutions displayed: 0\n"
     ]
    }
   ],
   "source": [
    "# Step 0: Create an instance of the model\n",
    "model = ConcreteModel()\n",
    "model.dual = Suffix(direction=Suffix.IMPORT)\n",
    "\n",
    "# Step 1: Define index sets\n",
    "CUS = list(Demand.keys()) # Customer\n",
    "SRC = list(Supply.keys()) # Source\n",
    "\n",
    "# Step 2: Define the decision \n",
    "model.x = Var(CUS, SRC, domain = NonNegativeReals)\n",
    "\n",
    "# Step 3: Define Objective\n",
    "model.Cost = Objective(\n",
    "    expr = sum([Cost[c,s]*model.x[c,s] for c in CUS for s in SRC]),\n",
    "    sense = minimize)\n",
    "\n",
    "# Step 4: Constraints\n",
    "model.src = ConstraintList()\n",
    "for s in SRC:\n",
    "    model.src.add(sum([model.x[c,s] for c in CUS]) <= Supply[s])\n",
    "        \n",
    "model.dmd = ConstraintList()\n",
    "for c in CUS:\n",
    "    model.dmd.add(sum([model.x[c,s] for s in SRC]) == Demand[c])\n",
    "    \n",
    "results = SolverFactory('glpk').solve(model)\n",
    "results.write()"
   ]
  },
  {
   "cell_type": "markdown",
   "metadata": {},
   "source": [
    "## 4 Solution"
   ]
  },
  {
   "cell_type": "code",
   "execution_count": 44,
   "metadata": {},
   "outputs": [],
   "source": [
    "#for c in CUS:\n",
    "#    for s in SRC:\n",
    "#        print(c, s, model.x[c,s]() / MMBtu / 1000000000)"
   ]
  },
  {
   "cell_type": "code",
   "execution_count": 26,
   "metadata": {},
   "outputs": [
    {
     "name": "stdout",
     "output_type": "stream",
     "text": [
      "\n",
      "Shipping Table:\n",
      "Ship from  Qatar  to  China : 35.6 bcm\n",
      "Ship from  Qatar  to  South Korea : 38.6 bcm\n",
      "Ship from  Qatar  to  India : 32.9 bcm\n",
      "Ship from  Australia  to  Japan : 66.1 bcm\n",
      "Ship from  Australia  to  South Korea : 0.5 bcm\n",
      "Ship from  USA  to  France : 8.499999999999998 bcm\n",
      "Ship from  USA  to  UK : 18.0 bcm\n",
      "Ship from  USA  to  Belgium : 7.2 bcm\n",
      "Ship from  Russia  to  Japan : 39.4 bcm\n",
      "Ship from  Malaysia  to  China : 35.1 bcm\n",
      "Ship from  Nigeria  to  Spain : 19.3 bcm\n",
      "Ship from  Nigeria  to  Italy : 9.5 bcm\n",
      "Ship from  Trinidad & Tobago  to  France : 14.4 bcm\n",
      "Ship from  Trinidad & Tobago  to  Spain : 2.6 bcm\n",
      "Ship from  Algeria  to  Italy : 4.0 bcm\n",
      "Ship from  Algeria  to  Turkey : 12.9 bcm\n",
      "Ship from  Indonesia  to  South Korea : 16.499999999999996 bcm\n",
      "Ship from  Oman  to  China : 14.1 bcm\n"
     ]
    }
   ],
   "source": [
    "if 'ok' == str(results.Solver.status):\n",
    "    #print(\"Total Costs = \",model.Cost(), \"$\")\n",
    "    print(\"\\nShipping Table:\")\n",
    "    for s in SRC:\n",
    "        for c in CUS:\n",
    "            if model.x[c,s]() > 0:\n",
    "                print(\"Ship from \", s,\" to \", c, \":\", model.x[c,s]() / MMBtu / 1000000000, \"bcm\")\n",
    "else:\n",
    "    print(\"No Valid Solution Found\")"
   ]
  },
  {
   "cell_type": "code",
   "execution_count": 43,
   "metadata": {},
   "outputs": [
    {
     "name": "stdout",
     "output_type": "stream",
     "text": [
      "\n",
      "Shipping Table:\n",
      "Ship from  Australia  to  Japan : 66.1 bcm\n",
      "Ship from  Russia  to  Japan : 39.4 bcm\n",
      "Ship from  Qatar  to  China : 35.6 bcm\n",
      "Ship from  Malaysia  to  China : 35.1 bcm\n",
      "Ship from  Oman  to  China : 14.1 bcm\n",
      "Ship from  Qatar  to  South Korea : 38.6 bcm\n",
      "Ship from  Australia  to  South Korea : 0.5 bcm\n",
      "Ship from  Indonesia  to  South Korea : 16.499999999999996 bcm\n",
      "Ship from  Qatar  to  India : 32.9 bcm\n",
      "Ship from  USA  to  France : 8.499999999999998 bcm\n",
      "Ship from  Trinidad & Tobago  to  France : 14.4 bcm\n",
      "Ship from  Nigeria  to  Spain : 19.3 bcm\n",
      "Ship from  Trinidad & Tobago  to  Spain : 2.6 bcm\n",
      "Ship from  USA  to  UK : 18.0 bcm\n",
      "Ship from  Nigeria  to  Italy : 9.5 bcm\n",
      "Ship from  Algeria  to  Italy : 4.0 bcm\n",
      "Ship from  Algeria  to  Turkey : 12.9 bcm\n",
      "Ship from  USA  to  Belgium : 7.2 bcm\n"
     ]
    }
   ],
   "source": [
    "print(\"\\nShipping Table:\")\n",
    "for c in CUS:\n",
    "    for s in SRC:\n",
    "        if model.x[c,s]() > 0:\n",
    "                print(\"Ship from \", s,\" to \", c, \":\", model.x[c,s]() / MMBtu / 1000000000, \"bcm\")"
   ]
  }
 ],
 "metadata": {
  "kernelspec": {
   "display_name": "Python 3",
   "language": "python",
   "name": "python3"
  },
  "language_info": {
   "codemirror_mode": {
    "name": "ipython",
    "version": 3
   },
   "file_extension": ".py",
   "mimetype": "text/x-python",
   "name": "python",
   "nbconvert_exporter": "python",
   "pygments_lexer": "ipython3",
   "version": "3.8.3"
  }
 },
 "nbformat": 4,
 "nbformat_minor": 5
}
